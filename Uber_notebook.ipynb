{
  "cells": [
    {
      "cell_type": "markdown",
      "metadata": {
        "id": "RGgI4vafh87t"
      },
      "source": [
        "# Predicting Uber Fare Prices\n",
        "## Mark Bowen & John Ruscito & Peyton Theil"
      ]
    },
    {
      "cell_type": "code",
      "execution_count": 1,
      "metadata": {
        "id": "aMhGwbl8h87u"
      },
      "outputs": [],
      "source": [
        "import pandas as pd\n",
        "import numpy as np\n",
        "import matplotlib.pyplot as plt\n",
        "from sklearn import linear_model as lm\n",
        "from sklearn import model_selection as ms\n",
        "from sklearn import preprocessing as pp\n",
        "from sklearn import pipeline\n",
        "from sklearn.metrics import mean_squared_error\n",
        "import seaborn as sns"
      ]
    },
    {
      "cell_type": "markdown",
      "metadata": {
        "id": "jjyvYTMBh87v"
      },
      "source": [
        "### Import data and Inspect the Data"
      ]
    },
    {
      "cell_type": "code",
      "source": [
        "from google.colab import files\n",
        "uploaded = files.upload()"
      ],
      "metadata": {
        "colab": {
          "base_uri": "https://localhost:8080/",
          "height": 73
        },
        "id": "zL_kJyz8SSRI",
        "outputId": "704b58c2-449e-46fd-d447-d5d74ceb6765"
      },
      "execution_count": 2,
      "outputs": [
        {
          "output_type": "display_data",
          "data": {
            "text/plain": [
              "<IPython.core.display.HTML object>"
            ],
            "text/html": [
              "\n",
              "     <input type=\"file\" id=\"files-330deabf-2b30-4c57-b0c2-9996937f0630\" name=\"files[]\" multiple disabled\n",
              "        style=\"border:none\" />\n",
              "     <output id=\"result-330deabf-2b30-4c57-b0c2-9996937f0630\">\n",
              "      Upload widget is only available when the cell has been executed in the\n",
              "      current browser session. Please rerun this cell to enable.\n",
              "      </output>\n",
              "      <script>// Copyright 2017 Google LLC\n",
              "//\n",
              "// Licensed under the Apache License, Version 2.0 (the \"License\");\n",
              "// you may not use this file except in compliance with the License.\n",
              "// You may obtain a copy of the License at\n",
              "//\n",
              "//      http://www.apache.org/licenses/LICENSE-2.0\n",
              "//\n",
              "// Unless required by applicable law or agreed to in writing, software\n",
              "// distributed under the License is distributed on an \"AS IS\" BASIS,\n",
              "// WITHOUT WARRANTIES OR CONDITIONS OF ANY KIND, either express or implied.\n",
              "// See the License for the specific language governing permissions and\n",
              "// limitations under the License.\n",
              "\n",
              "/**\n",
              " * @fileoverview Helpers for google.colab Python module.\n",
              " */\n",
              "(function(scope) {\n",
              "function span(text, styleAttributes = {}) {\n",
              "  const element = document.createElement('span');\n",
              "  element.textContent = text;\n",
              "  for (const key of Object.keys(styleAttributes)) {\n",
              "    element.style[key] = styleAttributes[key];\n",
              "  }\n",
              "  return element;\n",
              "}\n",
              "\n",
              "// Max number of bytes which will be uploaded at a time.\n",
              "const MAX_PAYLOAD_SIZE = 100 * 1024;\n",
              "\n",
              "function _uploadFiles(inputId, outputId) {\n",
              "  const steps = uploadFilesStep(inputId, outputId);\n",
              "  const outputElement = document.getElementById(outputId);\n",
              "  // Cache steps on the outputElement to make it available for the next call\n",
              "  // to uploadFilesContinue from Python.\n",
              "  outputElement.steps = steps;\n",
              "\n",
              "  return _uploadFilesContinue(outputId);\n",
              "}\n",
              "\n",
              "// This is roughly an async generator (not supported in the browser yet),\n",
              "// where there are multiple asynchronous steps and the Python side is going\n",
              "// to poll for completion of each step.\n",
              "// This uses a Promise to block the python side on completion of each step,\n",
              "// then passes the result of the previous step as the input to the next step.\n",
              "function _uploadFilesContinue(outputId) {\n",
              "  const outputElement = document.getElementById(outputId);\n",
              "  const steps = outputElement.steps;\n",
              "\n",
              "  const next = steps.next(outputElement.lastPromiseValue);\n",
              "  return Promise.resolve(next.value.promise).then((value) => {\n",
              "    // Cache the last promise value to make it available to the next\n",
              "    // step of the generator.\n",
              "    outputElement.lastPromiseValue = value;\n",
              "    return next.value.response;\n",
              "  });\n",
              "}\n",
              "\n",
              "/**\n",
              " * Generator function which is called between each async step of the upload\n",
              " * process.\n",
              " * @param {string} inputId Element ID of the input file picker element.\n",
              " * @param {string} outputId Element ID of the output display.\n",
              " * @return {!Iterable<!Object>} Iterable of next steps.\n",
              " */\n",
              "function* uploadFilesStep(inputId, outputId) {\n",
              "  const inputElement = document.getElementById(inputId);\n",
              "  inputElement.disabled = false;\n",
              "\n",
              "  const outputElement = document.getElementById(outputId);\n",
              "  outputElement.innerHTML = '';\n",
              "\n",
              "  const pickedPromise = new Promise((resolve) => {\n",
              "    inputElement.addEventListener('change', (e) => {\n",
              "      resolve(e.target.files);\n",
              "    });\n",
              "  });\n",
              "\n",
              "  const cancel = document.createElement('button');\n",
              "  inputElement.parentElement.appendChild(cancel);\n",
              "  cancel.textContent = 'Cancel upload';\n",
              "  const cancelPromise = new Promise((resolve) => {\n",
              "    cancel.onclick = () => {\n",
              "      resolve(null);\n",
              "    };\n",
              "  });\n",
              "\n",
              "  // Wait for the user to pick the files.\n",
              "  const files = yield {\n",
              "    promise: Promise.race([pickedPromise, cancelPromise]),\n",
              "    response: {\n",
              "      action: 'starting',\n",
              "    }\n",
              "  };\n",
              "\n",
              "  cancel.remove();\n",
              "\n",
              "  // Disable the input element since further picks are not allowed.\n",
              "  inputElement.disabled = true;\n",
              "\n",
              "  if (!files) {\n",
              "    return {\n",
              "      response: {\n",
              "        action: 'complete',\n",
              "      }\n",
              "    };\n",
              "  }\n",
              "\n",
              "  for (const file of files) {\n",
              "    const li = document.createElement('li');\n",
              "    li.append(span(file.name, {fontWeight: 'bold'}));\n",
              "    li.append(span(\n",
              "        `(${file.type || 'n/a'}) - ${file.size} bytes, ` +\n",
              "        `last modified: ${\n",
              "            file.lastModifiedDate ? file.lastModifiedDate.toLocaleDateString() :\n",
              "                                    'n/a'} - `));\n",
              "    const percent = span('0% done');\n",
              "    li.appendChild(percent);\n",
              "\n",
              "    outputElement.appendChild(li);\n",
              "\n",
              "    const fileDataPromise = new Promise((resolve) => {\n",
              "      const reader = new FileReader();\n",
              "      reader.onload = (e) => {\n",
              "        resolve(e.target.result);\n",
              "      };\n",
              "      reader.readAsArrayBuffer(file);\n",
              "    });\n",
              "    // Wait for the data to be ready.\n",
              "    let fileData = yield {\n",
              "      promise: fileDataPromise,\n",
              "      response: {\n",
              "        action: 'continue',\n",
              "      }\n",
              "    };\n",
              "\n",
              "    // Use a chunked sending to avoid message size limits. See b/62115660.\n",
              "    let position = 0;\n",
              "    do {\n",
              "      const length = Math.min(fileData.byteLength - position, MAX_PAYLOAD_SIZE);\n",
              "      const chunk = new Uint8Array(fileData, position, length);\n",
              "      position += length;\n",
              "\n",
              "      const base64 = btoa(String.fromCharCode.apply(null, chunk));\n",
              "      yield {\n",
              "        response: {\n",
              "          action: 'append',\n",
              "          file: file.name,\n",
              "          data: base64,\n",
              "        },\n",
              "      };\n",
              "\n",
              "      let percentDone = fileData.byteLength === 0 ?\n",
              "          100 :\n",
              "          Math.round((position / fileData.byteLength) * 100);\n",
              "      percent.textContent = `${percentDone}% done`;\n",
              "\n",
              "    } while (position < fileData.byteLength);\n",
              "  }\n",
              "\n",
              "  // All done.\n",
              "  yield {\n",
              "    response: {\n",
              "      action: 'complete',\n",
              "    }\n",
              "  };\n",
              "}\n",
              "\n",
              "scope.google = scope.google || {};\n",
              "scope.google.colab = scope.google.colab || {};\n",
              "scope.google.colab._files = {\n",
              "  _uploadFiles,\n",
              "  _uploadFilesContinue,\n",
              "};\n",
              "})(self);\n",
              "</script> "
            ]
          },
          "metadata": {}
        },
        {
          "output_type": "stream",
          "name": "stdout",
          "text": [
            "Saving uber.csv to uber.csv\n"
          ]
        }
      ]
    },
    {
      "cell_type": "code",
      "execution_count": 3,
      "metadata": {
        "colab": {
          "base_uri": "https://localhost:8080/",
          "height": 372
        },
        "id": "NQTRaUX6h87w",
        "outputId": "04e086ea-b5a6-4d4e-abab-c5cfe9476be9"
      },
      "outputs": [
        {
          "output_type": "stream",
          "name": "stdout",
          "text": [
            "Shape of the Data:  (200000, 9)\n"
          ]
        },
        {
          "output_type": "execute_result",
          "data": {
            "text/plain": [
              "   Unnamed: 0                            key  fare_amount  \\\n",
              "0    24238194    2015-05-07 19:52:06.0000003          7.5   \n",
              "1    27835199    2009-07-17 20:04:56.0000002          7.7   \n",
              "2    44984355   2009-08-24 21:45:00.00000061         12.9   \n",
              "3    25894730    2009-06-26 08:22:21.0000001          5.3   \n",
              "4    17610152  2014-08-28 17:47:00.000000188         16.0   \n",
              "\n",
              "           pickup_datetime  pickup_longitude  pickup_latitude  \\\n",
              "0  2015-05-07 19:52:06 UTC        -73.999817        40.738354   \n",
              "1  2009-07-17 20:04:56 UTC        -73.994355        40.728225   \n",
              "2  2009-08-24 21:45:00 UTC        -74.005043        40.740770   \n",
              "3  2009-06-26 08:22:21 UTC        -73.976124        40.790844   \n",
              "4  2014-08-28 17:47:00 UTC        -73.925023        40.744085   \n",
              "\n",
              "   dropoff_longitude  dropoff_latitude  passenger_count  \n",
              "0         -73.999512         40.723217                1  \n",
              "1         -73.994710         40.750325                1  \n",
              "2         -73.962565         40.772647                1  \n",
              "3         -73.965316         40.803349                3  \n",
              "4         -73.973082         40.761247                5  "
            ],
            "text/html": [
              "\n",
              "  <div id=\"df-0aa4bd59-613a-43c1-bbac-8abd72553183\">\n",
              "    <div class=\"colab-df-container\">\n",
              "      <div>\n",
              "<style scoped>\n",
              "    .dataframe tbody tr th:only-of-type {\n",
              "        vertical-align: middle;\n",
              "    }\n",
              "\n",
              "    .dataframe tbody tr th {\n",
              "        vertical-align: top;\n",
              "    }\n",
              "\n",
              "    .dataframe thead th {\n",
              "        text-align: right;\n",
              "    }\n",
              "</style>\n",
              "<table border=\"1\" class=\"dataframe\">\n",
              "  <thead>\n",
              "    <tr style=\"text-align: right;\">\n",
              "      <th></th>\n",
              "      <th>Unnamed: 0</th>\n",
              "      <th>key</th>\n",
              "      <th>fare_amount</th>\n",
              "      <th>pickup_datetime</th>\n",
              "      <th>pickup_longitude</th>\n",
              "      <th>pickup_latitude</th>\n",
              "      <th>dropoff_longitude</th>\n",
              "      <th>dropoff_latitude</th>\n",
              "      <th>passenger_count</th>\n",
              "    </tr>\n",
              "  </thead>\n",
              "  <tbody>\n",
              "    <tr>\n",
              "      <th>0</th>\n",
              "      <td>24238194</td>\n",
              "      <td>2015-05-07 19:52:06.0000003</td>\n",
              "      <td>7.5</td>\n",
              "      <td>2015-05-07 19:52:06 UTC</td>\n",
              "      <td>-73.999817</td>\n",
              "      <td>40.738354</td>\n",
              "      <td>-73.999512</td>\n",
              "      <td>40.723217</td>\n",
              "      <td>1</td>\n",
              "    </tr>\n",
              "    <tr>\n",
              "      <th>1</th>\n",
              "      <td>27835199</td>\n",
              "      <td>2009-07-17 20:04:56.0000002</td>\n",
              "      <td>7.7</td>\n",
              "      <td>2009-07-17 20:04:56 UTC</td>\n",
              "      <td>-73.994355</td>\n",
              "      <td>40.728225</td>\n",
              "      <td>-73.994710</td>\n",
              "      <td>40.750325</td>\n",
              "      <td>1</td>\n",
              "    </tr>\n",
              "    <tr>\n",
              "      <th>2</th>\n",
              "      <td>44984355</td>\n",
              "      <td>2009-08-24 21:45:00.00000061</td>\n",
              "      <td>12.9</td>\n",
              "      <td>2009-08-24 21:45:00 UTC</td>\n",
              "      <td>-74.005043</td>\n",
              "      <td>40.740770</td>\n",
              "      <td>-73.962565</td>\n",
              "      <td>40.772647</td>\n",
              "      <td>1</td>\n",
              "    </tr>\n",
              "    <tr>\n",
              "      <th>3</th>\n",
              "      <td>25894730</td>\n",
              "      <td>2009-06-26 08:22:21.0000001</td>\n",
              "      <td>5.3</td>\n",
              "      <td>2009-06-26 08:22:21 UTC</td>\n",
              "      <td>-73.976124</td>\n",
              "      <td>40.790844</td>\n",
              "      <td>-73.965316</td>\n",
              "      <td>40.803349</td>\n",
              "      <td>3</td>\n",
              "    </tr>\n",
              "    <tr>\n",
              "      <th>4</th>\n",
              "      <td>17610152</td>\n",
              "      <td>2014-08-28 17:47:00.000000188</td>\n",
              "      <td>16.0</td>\n",
              "      <td>2014-08-28 17:47:00 UTC</td>\n",
              "      <td>-73.925023</td>\n",
              "      <td>40.744085</td>\n",
              "      <td>-73.973082</td>\n",
              "      <td>40.761247</td>\n",
              "      <td>5</td>\n",
              "    </tr>\n",
              "  </tbody>\n",
              "</table>\n",
              "</div>\n",
              "      <button class=\"colab-df-convert\" onclick=\"convertToInteractive('df-0aa4bd59-613a-43c1-bbac-8abd72553183')\"\n",
              "              title=\"Convert this dataframe to an interactive table.\"\n",
              "              style=\"display:none;\">\n",
              "        \n",
              "  <svg xmlns=\"http://www.w3.org/2000/svg\" height=\"24px\"viewBox=\"0 0 24 24\"\n",
              "       width=\"24px\">\n",
              "    <path d=\"M0 0h24v24H0V0z\" fill=\"none\"/>\n",
              "    <path d=\"M18.56 5.44l.94 2.06.94-2.06 2.06-.94-2.06-.94-.94-2.06-.94 2.06-2.06.94zm-11 1L8.5 8.5l.94-2.06 2.06-.94-2.06-.94L8.5 2.5l-.94 2.06-2.06.94zm10 10l.94 2.06.94-2.06 2.06-.94-2.06-.94-.94-2.06-.94 2.06-2.06.94z\"/><path d=\"M17.41 7.96l-1.37-1.37c-.4-.4-.92-.59-1.43-.59-.52 0-1.04.2-1.43.59L10.3 9.45l-7.72 7.72c-.78.78-.78 2.05 0 2.83L4 21.41c.39.39.9.59 1.41.59.51 0 1.02-.2 1.41-.59l7.78-7.78 2.81-2.81c.8-.78.8-2.07 0-2.86zM5.41 20L4 18.59l7.72-7.72 1.47 1.35L5.41 20z\"/>\n",
              "  </svg>\n",
              "      </button>\n",
              "      \n",
              "  <style>\n",
              "    .colab-df-container {\n",
              "      display:flex;\n",
              "      flex-wrap:wrap;\n",
              "      gap: 12px;\n",
              "    }\n",
              "\n",
              "    .colab-df-convert {\n",
              "      background-color: #E8F0FE;\n",
              "      border: none;\n",
              "      border-radius: 50%;\n",
              "      cursor: pointer;\n",
              "      display: none;\n",
              "      fill: #1967D2;\n",
              "      height: 32px;\n",
              "      padding: 0 0 0 0;\n",
              "      width: 32px;\n",
              "    }\n",
              "\n",
              "    .colab-df-convert:hover {\n",
              "      background-color: #E2EBFA;\n",
              "      box-shadow: 0px 1px 2px rgba(60, 64, 67, 0.3), 0px 1px 3px 1px rgba(60, 64, 67, 0.15);\n",
              "      fill: #174EA6;\n",
              "    }\n",
              "\n",
              "    [theme=dark] .colab-df-convert {\n",
              "      background-color: #3B4455;\n",
              "      fill: #D2E3FC;\n",
              "    }\n",
              "\n",
              "    [theme=dark] .colab-df-convert:hover {\n",
              "      background-color: #434B5C;\n",
              "      box-shadow: 0px 1px 3px 1px rgba(0, 0, 0, 0.15);\n",
              "      filter: drop-shadow(0px 1px 2px rgba(0, 0, 0, 0.3));\n",
              "      fill: #FFFFFF;\n",
              "    }\n",
              "  </style>\n",
              "\n",
              "      <script>\n",
              "        const buttonEl =\n",
              "          document.querySelector('#df-0aa4bd59-613a-43c1-bbac-8abd72553183 button.colab-df-convert');\n",
              "        buttonEl.style.display =\n",
              "          google.colab.kernel.accessAllowed ? 'block' : 'none';\n",
              "\n",
              "        async function convertToInteractive(key) {\n",
              "          const element = document.querySelector('#df-0aa4bd59-613a-43c1-bbac-8abd72553183');\n",
              "          const dataTable =\n",
              "            await google.colab.kernel.invokeFunction('convertToInteractive',\n",
              "                                                     [key], {});\n",
              "          if (!dataTable) return;\n",
              "\n",
              "          const docLinkHtml = 'Like what you see? Visit the ' +\n",
              "            '<a target=\"_blank\" href=https://colab.research.google.com/notebooks/data_table.ipynb>data table notebook</a>'\n",
              "            + ' to learn more about interactive tables.';\n",
              "          element.innerHTML = '';\n",
              "          dataTable['output_type'] = 'display_data';\n",
              "          await google.colab.output.renderOutput(dataTable, element);\n",
              "          const docLink = document.createElement('div');\n",
              "          docLink.innerHTML = docLinkHtml;\n",
              "          element.appendChild(docLink);\n",
              "        }\n",
              "      </script>\n",
              "    </div>\n",
              "  </div>\n",
              "  "
            ]
          },
          "metadata": {},
          "execution_count": 3
        }
      ],
      "source": [
        "uber_data = pd.read_csv('uber.csv')\n",
        "print(\"Shape of the Data: \", uber_data.shape)\n",
        "uber_data.head()"
      ]
    },
    {
      "cell_type": "code",
      "execution_count": 4,
      "metadata": {
        "colab": {
          "base_uri": "https://localhost:8080/"
        },
        "id": "OSLPXHW4h87w",
        "outputId": "62457a85-5553-4ded-f805-1c98dafeb8dc"
      },
      "outputs": [
        {
          "output_type": "stream",
          "name": "stdout",
          "text": [
            "Check for null values:\n",
            " Unnamed: 0           0\n",
            "key                  0\n",
            "fare_amount          0\n",
            "pickup_datetime      0\n",
            "pickup_longitude     0\n",
            "pickup_latitude      0\n",
            "dropoff_longitude    1\n",
            "dropoff_latitude     1\n",
            "passenger_count      0\n",
            "dtype: int64\n",
            "Null values after dropping:\n",
            " Unnamed: 0           0\n",
            "key                  0\n",
            "fare_amount          0\n",
            "pickup_datetime      0\n",
            "pickup_longitude     0\n",
            "pickup_latitude      0\n",
            "dropoff_longitude    0\n",
            "dropoff_latitude     0\n",
            "passenger_count      0\n",
            "dtype: int64\n"
          ]
        }
      ],
      "source": [
        "print(\"Check for null values:\\n\", uber_data.isnull().sum())\n",
        "uber_data = uber_data.dropna()\n",
        "print(\"Null values after dropping:\\n\", uber_data.isnull().sum())\n"
      ]
    },
    {
      "cell_type": "markdown",
      "metadata": {
        "id": "HRXwRvBph87x"
      },
      "source": [
        "## Data"
      ]
    },
    {
      "cell_type": "markdown",
      "metadata": {
        "id": "_d8S-Wb4h87x"
      },
      "source": [
        "### Feature Engineer pickup_datetime"
      ]
    },
    {
      "cell_type": "code",
      "execution_count": 5,
      "metadata": {
        "id": "LO7OeNG-h87y"
      },
      "outputs": [],
      "source": [
        "uber_data.pickup_datetime = pd.to_datetime(uber_data.pickup_datetime, format = '%Y-%m-%d %H:%M:%S UTC', errors='coerce')"
      ]
    },
    {
      "cell_type": "code",
      "execution_count": 6,
      "metadata": {
        "colab": {
          "base_uri": "https://localhost:8080/",
          "height": 354
        },
        "id": "G-mm6o-Uh87y",
        "outputId": "585e665f-2d33-4034-af7c-84821371adc8"
      },
      "outputs": [
        {
          "output_type": "execute_result",
          "data": {
            "text/plain": [
              "   Unnamed: 0                            key  fare_amount     pickup_datetime  \\\n",
              "0    24238194    2015-05-07 19:52:06.0000003          7.5 2015-05-07 19:52:06   \n",
              "1    27835199    2009-07-17 20:04:56.0000002          7.7 2009-07-17 20:04:56   \n",
              "2    44984355   2009-08-24 21:45:00.00000061         12.9 2009-08-24 21:45:00   \n",
              "3    25894730    2009-06-26 08:22:21.0000001          5.3 2009-06-26 08:22:21   \n",
              "4    17610152  2014-08-28 17:47:00.000000188         16.0 2014-08-28 17:47:00   \n",
              "\n",
              "   pickup_longitude  pickup_latitude  dropoff_longitude  dropoff_latitude  \\\n",
              "0        -73.999817        40.738354         -73.999512         40.723217   \n",
              "1        -73.994355        40.728225         -73.994710         40.750325   \n",
              "2        -74.005043        40.740770         -73.962565         40.772647   \n",
              "3        -73.976124        40.790844         -73.965316         40.803349   \n",
              "4        -73.925023        40.744085         -73.973082         40.761247   \n",
              "\n",
              "   passenger_count  \n",
              "0                1  \n",
              "1                1  \n",
              "2                1  \n",
              "3                3  \n",
              "4                5  "
            ],
            "text/html": [
              "\n",
              "  <div id=\"df-1effd4a0-98b7-45cc-b584-2a65e84e673e\">\n",
              "    <div class=\"colab-df-container\">\n",
              "      <div>\n",
              "<style scoped>\n",
              "    .dataframe tbody tr th:only-of-type {\n",
              "        vertical-align: middle;\n",
              "    }\n",
              "\n",
              "    .dataframe tbody tr th {\n",
              "        vertical-align: top;\n",
              "    }\n",
              "\n",
              "    .dataframe thead th {\n",
              "        text-align: right;\n",
              "    }\n",
              "</style>\n",
              "<table border=\"1\" class=\"dataframe\">\n",
              "  <thead>\n",
              "    <tr style=\"text-align: right;\">\n",
              "      <th></th>\n",
              "      <th>Unnamed: 0</th>\n",
              "      <th>key</th>\n",
              "      <th>fare_amount</th>\n",
              "      <th>pickup_datetime</th>\n",
              "      <th>pickup_longitude</th>\n",
              "      <th>pickup_latitude</th>\n",
              "      <th>dropoff_longitude</th>\n",
              "      <th>dropoff_latitude</th>\n",
              "      <th>passenger_count</th>\n",
              "    </tr>\n",
              "  </thead>\n",
              "  <tbody>\n",
              "    <tr>\n",
              "      <th>0</th>\n",
              "      <td>24238194</td>\n",
              "      <td>2015-05-07 19:52:06.0000003</td>\n",
              "      <td>7.5</td>\n",
              "      <td>2015-05-07 19:52:06</td>\n",
              "      <td>-73.999817</td>\n",
              "      <td>40.738354</td>\n",
              "      <td>-73.999512</td>\n",
              "      <td>40.723217</td>\n",
              "      <td>1</td>\n",
              "    </tr>\n",
              "    <tr>\n",
              "      <th>1</th>\n",
              "      <td>27835199</td>\n",
              "      <td>2009-07-17 20:04:56.0000002</td>\n",
              "      <td>7.7</td>\n",
              "      <td>2009-07-17 20:04:56</td>\n",
              "      <td>-73.994355</td>\n",
              "      <td>40.728225</td>\n",
              "      <td>-73.994710</td>\n",
              "      <td>40.750325</td>\n",
              "      <td>1</td>\n",
              "    </tr>\n",
              "    <tr>\n",
              "      <th>2</th>\n",
              "      <td>44984355</td>\n",
              "      <td>2009-08-24 21:45:00.00000061</td>\n",
              "      <td>12.9</td>\n",
              "      <td>2009-08-24 21:45:00</td>\n",
              "      <td>-74.005043</td>\n",
              "      <td>40.740770</td>\n",
              "      <td>-73.962565</td>\n",
              "      <td>40.772647</td>\n",
              "      <td>1</td>\n",
              "    </tr>\n",
              "    <tr>\n",
              "      <th>3</th>\n",
              "      <td>25894730</td>\n",
              "      <td>2009-06-26 08:22:21.0000001</td>\n",
              "      <td>5.3</td>\n",
              "      <td>2009-06-26 08:22:21</td>\n",
              "      <td>-73.976124</td>\n",
              "      <td>40.790844</td>\n",
              "      <td>-73.965316</td>\n",
              "      <td>40.803349</td>\n",
              "      <td>3</td>\n",
              "    </tr>\n",
              "    <tr>\n",
              "      <th>4</th>\n",
              "      <td>17610152</td>\n",
              "      <td>2014-08-28 17:47:00.000000188</td>\n",
              "      <td>16.0</td>\n",
              "      <td>2014-08-28 17:47:00</td>\n",
              "      <td>-73.925023</td>\n",
              "      <td>40.744085</td>\n",
              "      <td>-73.973082</td>\n",
              "      <td>40.761247</td>\n",
              "      <td>5</td>\n",
              "    </tr>\n",
              "  </tbody>\n",
              "</table>\n",
              "</div>\n",
              "      <button class=\"colab-df-convert\" onclick=\"convertToInteractive('df-1effd4a0-98b7-45cc-b584-2a65e84e673e')\"\n",
              "              title=\"Convert this dataframe to an interactive table.\"\n",
              "              style=\"display:none;\">\n",
              "        \n",
              "  <svg xmlns=\"http://www.w3.org/2000/svg\" height=\"24px\"viewBox=\"0 0 24 24\"\n",
              "       width=\"24px\">\n",
              "    <path d=\"M0 0h24v24H0V0z\" fill=\"none\"/>\n",
              "    <path d=\"M18.56 5.44l.94 2.06.94-2.06 2.06-.94-2.06-.94-.94-2.06-.94 2.06-2.06.94zm-11 1L8.5 8.5l.94-2.06 2.06-.94-2.06-.94L8.5 2.5l-.94 2.06-2.06.94zm10 10l.94 2.06.94-2.06 2.06-.94-2.06-.94-.94-2.06-.94 2.06-2.06.94z\"/><path d=\"M17.41 7.96l-1.37-1.37c-.4-.4-.92-.59-1.43-.59-.52 0-1.04.2-1.43.59L10.3 9.45l-7.72 7.72c-.78.78-.78 2.05 0 2.83L4 21.41c.39.39.9.59 1.41.59.51 0 1.02-.2 1.41-.59l7.78-7.78 2.81-2.81c.8-.78.8-2.07 0-2.86zM5.41 20L4 18.59l7.72-7.72 1.47 1.35L5.41 20z\"/>\n",
              "  </svg>\n",
              "      </button>\n",
              "      \n",
              "  <style>\n",
              "    .colab-df-container {\n",
              "      display:flex;\n",
              "      flex-wrap:wrap;\n",
              "      gap: 12px;\n",
              "    }\n",
              "\n",
              "    .colab-df-convert {\n",
              "      background-color: #E8F0FE;\n",
              "      border: none;\n",
              "      border-radius: 50%;\n",
              "      cursor: pointer;\n",
              "      display: none;\n",
              "      fill: #1967D2;\n",
              "      height: 32px;\n",
              "      padding: 0 0 0 0;\n",
              "      width: 32px;\n",
              "    }\n",
              "\n",
              "    .colab-df-convert:hover {\n",
              "      background-color: #E2EBFA;\n",
              "      box-shadow: 0px 1px 2px rgba(60, 64, 67, 0.3), 0px 1px 3px 1px rgba(60, 64, 67, 0.15);\n",
              "      fill: #174EA6;\n",
              "    }\n",
              "\n",
              "    [theme=dark] .colab-df-convert {\n",
              "      background-color: #3B4455;\n",
              "      fill: #D2E3FC;\n",
              "    }\n",
              "\n",
              "    [theme=dark] .colab-df-convert:hover {\n",
              "      background-color: #434B5C;\n",
              "      box-shadow: 0px 1px 3px 1px rgba(0, 0, 0, 0.15);\n",
              "      filter: drop-shadow(0px 1px 2px rgba(0, 0, 0, 0.3));\n",
              "      fill: #FFFFFF;\n",
              "    }\n",
              "  </style>\n",
              "\n",
              "      <script>\n",
              "        const buttonEl =\n",
              "          document.querySelector('#df-1effd4a0-98b7-45cc-b584-2a65e84e673e button.colab-df-convert');\n",
              "        buttonEl.style.display =\n",
              "          google.colab.kernel.accessAllowed ? 'block' : 'none';\n",
              "\n",
              "        async function convertToInteractive(key) {\n",
              "          const element = document.querySelector('#df-1effd4a0-98b7-45cc-b584-2a65e84e673e');\n",
              "          const dataTable =\n",
              "            await google.colab.kernel.invokeFunction('convertToInteractive',\n",
              "                                                     [key], {});\n",
              "          if (!dataTable) return;\n",
              "\n",
              "          const docLinkHtml = 'Like what you see? Visit the ' +\n",
              "            '<a target=\"_blank\" href=https://colab.research.google.com/notebooks/data_table.ipynb>data table notebook</a>'\n",
              "            + ' to learn more about interactive tables.';\n",
              "          element.innerHTML = '';\n",
              "          dataTable['output_type'] = 'display_data';\n",
              "          await google.colab.output.renderOutput(dataTable, element);\n",
              "          const docLink = document.createElement('div');\n",
              "          docLink.innerHTML = docLinkHtml;\n",
              "          element.appendChild(docLink);\n",
              "        }\n",
              "      </script>\n",
              "    </div>\n",
              "  </div>\n",
              "  "
            ]
          },
          "metadata": {},
          "execution_count": 6
        }
      ],
      "source": [
        "uber_data.head()"
      ]
    },
    {
      "cell_type": "code",
      "execution_count": 7,
      "metadata": {
        "colab": {
          "base_uri": "https://localhost:8080/"
        },
        "id": "UK8EU-YHh87y",
        "outputId": "5fbe531f-1510-40df-a24a-ad03789d76b7"
      },
      "outputs": [
        {
          "output_type": "execute_result",
          "data": {
            "text/plain": [
              "0"
            ]
          },
          "metadata": {},
          "execution_count": 7
        }
      ],
      "source": [
        "(uber_data.pickup_datetime == \"NaT\").sum()"
      ]
    },
    {
      "cell_type": "markdown",
      "metadata": {
        "id": "U1Ss6rx1h87z"
      },
      "source": [
        "Extract extra information from pickup_datetime. <br>\n",
        "Year is not important since it will never repeat (i.e. it will never be 2019 again)"
      ]
    },
    {
      "cell_type": "code",
      "execution_count": 8,
      "metadata": {
        "colab": {
          "base_uri": "https://localhost:8080/",
          "height": 206
        },
        "id": "_Bodx5W3h87z",
        "outputId": "39fc5e8c-7cb0-400f-e080-72a64415669c"
      },
      "outputs": [
        {
          "output_type": "execute_result",
          "data": {
            "text/plain": [
              "   pickup_month  pickup_week  pickup_day  pickup_hour  pickup_minute  \\\n",
              "0             5           19           7           19             52   \n",
              "1             7           29          17           20              4   \n",
              "2             8           35          24           21             45   \n",
              "3             6           26          26            8             22   \n",
              "4             8           35          28           17             47   \n",
              "\n",
              "   pickup_dayofweek  \n",
              "0                 3  \n",
              "1                 4  \n",
              "2                 0  \n",
              "3                 4  \n",
              "4                 3  "
            ],
            "text/html": [
              "\n",
              "  <div id=\"df-2347866b-009e-4b21-811e-dba517c57182\">\n",
              "    <div class=\"colab-df-container\">\n",
              "      <div>\n",
              "<style scoped>\n",
              "    .dataframe tbody tr th:only-of-type {\n",
              "        vertical-align: middle;\n",
              "    }\n",
              "\n",
              "    .dataframe tbody tr th {\n",
              "        vertical-align: top;\n",
              "    }\n",
              "\n",
              "    .dataframe thead th {\n",
              "        text-align: right;\n",
              "    }\n",
              "</style>\n",
              "<table border=\"1\" class=\"dataframe\">\n",
              "  <thead>\n",
              "    <tr style=\"text-align: right;\">\n",
              "      <th></th>\n",
              "      <th>pickup_month</th>\n",
              "      <th>pickup_week</th>\n",
              "      <th>pickup_day</th>\n",
              "      <th>pickup_hour</th>\n",
              "      <th>pickup_minute</th>\n",
              "      <th>pickup_dayofweek</th>\n",
              "    </tr>\n",
              "  </thead>\n",
              "  <tbody>\n",
              "    <tr>\n",
              "      <th>0</th>\n",
              "      <td>5</td>\n",
              "      <td>19</td>\n",
              "      <td>7</td>\n",
              "      <td>19</td>\n",
              "      <td>52</td>\n",
              "      <td>3</td>\n",
              "    </tr>\n",
              "    <tr>\n",
              "      <th>1</th>\n",
              "      <td>7</td>\n",
              "      <td>29</td>\n",
              "      <td>17</td>\n",
              "      <td>20</td>\n",
              "      <td>4</td>\n",
              "      <td>4</td>\n",
              "    </tr>\n",
              "    <tr>\n",
              "      <th>2</th>\n",
              "      <td>8</td>\n",
              "      <td>35</td>\n",
              "      <td>24</td>\n",
              "      <td>21</td>\n",
              "      <td>45</td>\n",
              "      <td>0</td>\n",
              "    </tr>\n",
              "    <tr>\n",
              "      <th>3</th>\n",
              "      <td>6</td>\n",
              "      <td>26</td>\n",
              "      <td>26</td>\n",
              "      <td>8</td>\n",
              "      <td>22</td>\n",
              "      <td>4</td>\n",
              "    </tr>\n",
              "    <tr>\n",
              "      <th>4</th>\n",
              "      <td>8</td>\n",
              "      <td>35</td>\n",
              "      <td>28</td>\n",
              "      <td>17</td>\n",
              "      <td>47</td>\n",
              "      <td>3</td>\n",
              "    </tr>\n",
              "  </tbody>\n",
              "</table>\n",
              "</div>\n",
              "      <button class=\"colab-df-convert\" onclick=\"convertToInteractive('df-2347866b-009e-4b21-811e-dba517c57182')\"\n",
              "              title=\"Convert this dataframe to an interactive table.\"\n",
              "              style=\"display:none;\">\n",
              "        \n",
              "  <svg xmlns=\"http://www.w3.org/2000/svg\" height=\"24px\"viewBox=\"0 0 24 24\"\n",
              "       width=\"24px\">\n",
              "    <path d=\"M0 0h24v24H0V0z\" fill=\"none\"/>\n",
              "    <path d=\"M18.56 5.44l.94 2.06.94-2.06 2.06-.94-2.06-.94-.94-2.06-.94 2.06-2.06.94zm-11 1L8.5 8.5l.94-2.06 2.06-.94-2.06-.94L8.5 2.5l-.94 2.06-2.06.94zm10 10l.94 2.06.94-2.06 2.06-.94-2.06-.94-.94-2.06-.94 2.06-2.06.94z\"/><path d=\"M17.41 7.96l-1.37-1.37c-.4-.4-.92-.59-1.43-.59-.52 0-1.04.2-1.43.59L10.3 9.45l-7.72 7.72c-.78.78-.78 2.05 0 2.83L4 21.41c.39.39.9.59 1.41.59.51 0 1.02-.2 1.41-.59l7.78-7.78 2.81-2.81c.8-.78.8-2.07 0-2.86zM5.41 20L4 18.59l7.72-7.72 1.47 1.35L5.41 20z\"/>\n",
              "  </svg>\n",
              "      </button>\n",
              "      \n",
              "  <style>\n",
              "    .colab-df-container {\n",
              "      display:flex;\n",
              "      flex-wrap:wrap;\n",
              "      gap: 12px;\n",
              "    }\n",
              "\n",
              "    .colab-df-convert {\n",
              "      background-color: #E8F0FE;\n",
              "      border: none;\n",
              "      border-radius: 50%;\n",
              "      cursor: pointer;\n",
              "      display: none;\n",
              "      fill: #1967D2;\n",
              "      height: 32px;\n",
              "      padding: 0 0 0 0;\n",
              "      width: 32px;\n",
              "    }\n",
              "\n",
              "    .colab-df-convert:hover {\n",
              "      background-color: #E2EBFA;\n",
              "      box-shadow: 0px 1px 2px rgba(60, 64, 67, 0.3), 0px 1px 3px 1px rgba(60, 64, 67, 0.15);\n",
              "      fill: #174EA6;\n",
              "    }\n",
              "\n",
              "    [theme=dark] .colab-df-convert {\n",
              "      background-color: #3B4455;\n",
              "      fill: #D2E3FC;\n",
              "    }\n",
              "\n",
              "    [theme=dark] .colab-df-convert:hover {\n",
              "      background-color: #434B5C;\n",
              "      box-shadow: 0px 1px 3px 1px rgba(0, 0, 0, 0.15);\n",
              "      filter: drop-shadow(0px 1px 2px rgba(0, 0, 0, 0.3));\n",
              "      fill: #FFFFFF;\n",
              "    }\n",
              "  </style>\n",
              "\n",
              "      <script>\n",
              "        const buttonEl =\n",
              "          document.querySelector('#df-2347866b-009e-4b21-811e-dba517c57182 button.colab-df-convert');\n",
              "        buttonEl.style.display =\n",
              "          google.colab.kernel.accessAllowed ? 'block' : 'none';\n",
              "\n",
              "        async function convertToInteractive(key) {\n",
              "          const element = document.querySelector('#df-2347866b-009e-4b21-811e-dba517c57182');\n",
              "          const dataTable =\n",
              "            await google.colab.kernel.invokeFunction('convertToInteractive',\n",
              "                                                     [key], {});\n",
              "          if (!dataTable) return;\n",
              "\n",
              "          const docLinkHtml = 'Like what you see? Visit the ' +\n",
              "            '<a target=\"_blank\" href=https://colab.research.google.com/notebooks/data_table.ipynb>data table notebook</a>'\n",
              "            + ' to learn more about interactive tables.';\n",
              "          element.innerHTML = '';\n",
              "          dataTable['output_type'] = 'display_data';\n",
              "          await google.colab.output.renderOutput(dataTable, element);\n",
              "          const docLink = document.createElement('div');\n",
              "          docLink.innerHTML = docLinkHtml;\n",
              "          element.appendChild(docLink);\n",
              "        }\n",
              "      </script>\n",
              "    </div>\n",
              "  </div>\n",
              "  "
            ]
          },
          "metadata": {},
          "execution_count": 8
        }
      ],
      "source": [
        "uber_data['pickup_month'] = uber_data.pickup_datetime.dt.month\n",
        "uber_data['pickup_week'] = uber_data.pickup_datetime.dt.isocalendar().week\n",
        "uber_data['pickup_day'] = uber_data.pickup_datetime.dt.day\n",
        "uber_data['pickup_hour'] = uber_data.pickup_datetime.dt.hour\n",
        "uber_data['pickup_minute'] = uber_data.pickup_datetime.dt.minute\n",
        "uber_data['pickup_dayofweek'] = uber_data.pickup_datetime.dt.dayofweek\n",
        "uber_data[['pickup_month', 'pickup_week', 'pickup_day', 'pickup_hour', 'pickup_minute', 'pickup_dayofweek']].head()"
      ]
    },
    {
      "cell_type": "markdown",
      "metadata": {
        "id": "tq7uWTl8h870"
      },
      "source": [
        "Now that we have extracted the useful information out of pickup_datetime, we can remove the column from the data"
      ]
    },
    {
      "cell_type": "markdown",
      "metadata": {
        "id": "Js3zfEDQh870"
      },
      "source": [
        "Let's also drop key and id since they are not necessary for learning"
      ]
    },
    {
      "cell_type": "code",
      "execution_count": 9,
      "metadata": {
        "colab": {
          "base_uri": "https://localhost:8080/",
          "height": 270
        },
        "id": "2OKkUFmXh870",
        "outputId": "fe95e309-556b-47c5-dcd1-066d1731c171"
      },
      "outputs": [
        {
          "output_type": "execute_result",
          "data": {
            "text/plain": [
              "   fare_amount  pickup_longitude  pickup_latitude  dropoff_longitude  \\\n",
              "0          7.5        -73.999817        40.738354         -73.999512   \n",
              "1          7.7        -73.994355        40.728225         -73.994710   \n",
              "2         12.9        -74.005043        40.740770         -73.962565   \n",
              "3          5.3        -73.976124        40.790844         -73.965316   \n",
              "4         16.0        -73.925023        40.744085         -73.973082   \n",
              "\n",
              "   dropoff_latitude  passenger_count  pickup_month  pickup_week  pickup_day  \\\n",
              "0         40.723217                1             5           19           7   \n",
              "1         40.750325                1             7           29          17   \n",
              "2         40.772647                1             8           35          24   \n",
              "3         40.803349                3             6           26          26   \n",
              "4         40.761247                5             8           35          28   \n",
              "\n",
              "   pickup_hour  pickup_minute  pickup_dayofweek  \n",
              "0           19             52                 3  \n",
              "1           20              4                 4  \n",
              "2           21             45                 0  \n",
              "3            8             22                 4  \n",
              "4           17             47                 3  "
            ],
            "text/html": [
              "\n",
              "  <div id=\"df-f91f1106-33d0-4cd4-98b7-34696006582a\">\n",
              "    <div class=\"colab-df-container\">\n",
              "      <div>\n",
              "<style scoped>\n",
              "    .dataframe tbody tr th:only-of-type {\n",
              "        vertical-align: middle;\n",
              "    }\n",
              "\n",
              "    .dataframe tbody tr th {\n",
              "        vertical-align: top;\n",
              "    }\n",
              "\n",
              "    .dataframe thead th {\n",
              "        text-align: right;\n",
              "    }\n",
              "</style>\n",
              "<table border=\"1\" class=\"dataframe\">\n",
              "  <thead>\n",
              "    <tr style=\"text-align: right;\">\n",
              "      <th></th>\n",
              "      <th>fare_amount</th>\n",
              "      <th>pickup_longitude</th>\n",
              "      <th>pickup_latitude</th>\n",
              "      <th>dropoff_longitude</th>\n",
              "      <th>dropoff_latitude</th>\n",
              "      <th>passenger_count</th>\n",
              "      <th>pickup_month</th>\n",
              "      <th>pickup_week</th>\n",
              "      <th>pickup_day</th>\n",
              "      <th>pickup_hour</th>\n",
              "      <th>pickup_minute</th>\n",
              "      <th>pickup_dayofweek</th>\n",
              "    </tr>\n",
              "  </thead>\n",
              "  <tbody>\n",
              "    <tr>\n",
              "      <th>0</th>\n",
              "      <td>7.5</td>\n",
              "      <td>-73.999817</td>\n",
              "      <td>40.738354</td>\n",
              "      <td>-73.999512</td>\n",
              "      <td>40.723217</td>\n",
              "      <td>1</td>\n",
              "      <td>5</td>\n",
              "      <td>19</td>\n",
              "      <td>7</td>\n",
              "      <td>19</td>\n",
              "      <td>52</td>\n",
              "      <td>3</td>\n",
              "    </tr>\n",
              "    <tr>\n",
              "      <th>1</th>\n",
              "      <td>7.7</td>\n",
              "      <td>-73.994355</td>\n",
              "      <td>40.728225</td>\n",
              "      <td>-73.994710</td>\n",
              "      <td>40.750325</td>\n",
              "      <td>1</td>\n",
              "      <td>7</td>\n",
              "      <td>29</td>\n",
              "      <td>17</td>\n",
              "      <td>20</td>\n",
              "      <td>4</td>\n",
              "      <td>4</td>\n",
              "    </tr>\n",
              "    <tr>\n",
              "      <th>2</th>\n",
              "      <td>12.9</td>\n",
              "      <td>-74.005043</td>\n",
              "      <td>40.740770</td>\n",
              "      <td>-73.962565</td>\n",
              "      <td>40.772647</td>\n",
              "      <td>1</td>\n",
              "      <td>8</td>\n",
              "      <td>35</td>\n",
              "      <td>24</td>\n",
              "      <td>21</td>\n",
              "      <td>45</td>\n",
              "      <td>0</td>\n",
              "    </tr>\n",
              "    <tr>\n",
              "      <th>3</th>\n",
              "      <td>5.3</td>\n",
              "      <td>-73.976124</td>\n",
              "      <td>40.790844</td>\n",
              "      <td>-73.965316</td>\n",
              "      <td>40.803349</td>\n",
              "      <td>3</td>\n",
              "      <td>6</td>\n",
              "      <td>26</td>\n",
              "      <td>26</td>\n",
              "      <td>8</td>\n",
              "      <td>22</td>\n",
              "      <td>4</td>\n",
              "    </tr>\n",
              "    <tr>\n",
              "      <th>4</th>\n",
              "      <td>16.0</td>\n",
              "      <td>-73.925023</td>\n",
              "      <td>40.744085</td>\n",
              "      <td>-73.973082</td>\n",
              "      <td>40.761247</td>\n",
              "      <td>5</td>\n",
              "      <td>8</td>\n",
              "      <td>35</td>\n",
              "      <td>28</td>\n",
              "      <td>17</td>\n",
              "      <td>47</td>\n",
              "      <td>3</td>\n",
              "    </tr>\n",
              "  </tbody>\n",
              "</table>\n",
              "</div>\n",
              "      <button class=\"colab-df-convert\" onclick=\"convertToInteractive('df-f91f1106-33d0-4cd4-98b7-34696006582a')\"\n",
              "              title=\"Convert this dataframe to an interactive table.\"\n",
              "              style=\"display:none;\">\n",
              "        \n",
              "  <svg xmlns=\"http://www.w3.org/2000/svg\" height=\"24px\"viewBox=\"0 0 24 24\"\n",
              "       width=\"24px\">\n",
              "    <path d=\"M0 0h24v24H0V0z\" fill=\"none\"/>\n",
              "    <path d=\"M18.56 5.44l.94 2.06.94-2.06 2.06-.94-2.06-.94-.94-2.06-.94 2.06-2.06.94zm-11 1L8.5 8.5l.94-2.06 2.06-.94-2.06-.94L8.5 2.5l-.94 2.06-2.06.94zm10 10l.94 2.06.94-2.06 2.06-.94-2.06-.94-.94-2.06-.94 2.06-2.06.94z\"/><path d=\"M17.41 7.96l-1.37-1.37c-.4-.4-.92-.59-1.43-.59-.52 0-1.04.2-1.43.59L10.3 9.45l-7.72 7.72c-.78.78-.78 2.05 0 2.83L4 21.41c.39.39.9.59 1.41.59.51 0 1.02-.2 1.41-.59l7.78-7.78 2.81-2.81c.8-.78.8-2.07 0-2.86zM5.41 20L4 18.59l7.72-7.72 1.47 1.35L5.41 20z\"/>\n",
              "  </svg>\n",
              "      </button>\n",
              "      \n",
              "  <style>\n",
              "    .colab-df-container {\n",
              "      display:flex;\n",
              "      flex-wrap:wrap;\n",
              "      gap: 12px;\n",
              "    }\n",
              "\n",
              "    .colab-df-convert {\n",
              "      background-color: #E8F0FE;\n",
              "      border: none;\n",
              "      border-radius: 50%;\n",
              "      cursor: pointer;\n",
              "      display: none;\n",
              "      fill: #1967D2;\n",
              "      height: 32px;\n",
              "      padding: 0 0 0 0;\n",
              "      width: 32px;\n",
              "    }\n",
              "\n",
              "    .colab-df-convert:hover {\n",
              "      background-color: #E2EBFA;\n",
              "      box-shadow: 0px 1px 2px rgba(60, 64, 67, 0.3), 0px 1px 3px 1px rgba(60, 64, 67, 0.15);\n",
              "      fill: #174EA6;\n",
              "    }\n",
              "\n",
              "    [theme=dark] .colab-df-convert {\n",
              "      background-color: #3B4455;\n",
              "      fill: #D2E3FC;\n",
              "    }\n",
              "\n",
              "    [theme=dark] .colab-df-convert:hover {\n",
              "      background-color: #434B5C;\n",
              "      box-shadow: 0px 1px 3px 1px rgba(0, 0, 0, 0.15);\n",
              "      filter: drop-shadow(0px 1px 2px rgba(0, 0, 0, 0.3));\n",
              "      fill: #FFFFFF;\n",
              "    }\n",
              "  </style>\n",
              "\n",
              "      <script>\n",
              "        const buttonEl =\n",
              "          document.querySelector('#df-f91f1106-33d0-4cd4-98b7-34696006582a button.colab-df-convert');\n",
              "        buttonEl.style.display =\n",
              "          google.colab.kernel.accessAllowed ? 'block' : 'none';\n",
              "\n",
              "        async function convertToInteractive(key) {\n",
              "          const element = document.querySelector('#df-f91f1106-33d0-4cd4-98b7-34696006582a');\n",
              "          const dataTable =\n",
              "            await google.colab.kernel.invokeFunction('convertToInteractive',\n",
              "                                                     [key], {});\n",
              "          if (!dataTable) return;\n",
              "\n",
              "          const docLinkHtml = 'Like what you see? Visit the ' +\n",
              "            '<a target=\"_blank\" href=https://colab.research.google.com/notebooks/data_table.ipynb>data table notebook</a>'\n",
              "            + ' to learn more about interactive tables.';\n",
              "          element.innerHTML = '';\n",
              "          dataTable['output_type'] = 'display_data';\n",
              "          await google.colab.output.renderOutput(dataTable, element);\n",
              "          const docLink = document.createElement('div');\n",
              "          docLink.innerHTML = docLinkHtml;\n",
              "          element.appendChild(docLink);\n",
              "        }\n",
              "      </script>\n",
              "    </div>\n",
              "  </div>\n",
              "  "
            ]
          },
          "metadata": {},
          "execution_count": 9
        }
      ],
      "source": [
        "uber_data = uber_data.drop(columns = ['pickup_datetime', 'key', 'Unnamed: 0'])\n",
        "uber_data.head()"
      ]
    },
    {
      "cell_type": "markdown",
      "metadata": {
        "id": "n_b1pA_Hh871"
      },
      "source": [
        "Inspect Target Variable"
      ]
    },
    {
      "cell_type": "code",
      "execution_count": 10,
      "metadata": {
        "colab": {
          "base_uri": "https://localhost:8080/",
          "height": 333
        },
        "id": "I3726KSTh871",
        "outputId": "ede7c6bc-1d4e-4d27-e1bc-1dd8e3fdce11"
      },
      "outputs": [
        {
          "output_type": "stream",
          "name": "stdout",
          "text": [
            "Max fare: 499.0 || Min Fare: -52.0\n",
            "Percentiles of fare: [ 3.7   6.    8.5  12.5  43.33]\n"
          ]
        },
        {
          "output_type": "execute_result",
          "data": {
            "text/plain": [
              "<matplotlib.axes._subplots.AxesSubplot at 0x7fb6a1e36880>"
            ]
          },
          "metadata": {},
          "execution_count": 10
        },
        {
          "output_type": "display_data",
          "data": {
            "text/plain": [
              "<Figure size 432x288 with 1 Axes>"
            ],
            "image/png": "[encoded data removed]"
          },
          "metadata": {
            "needs_background": "light"
          }
        }
      ],
      "source": [
        "print(\"Max fare: {} || Min Fare: {}\".format(max(uber_data.fare_amount), min(uber_data.fare_amount)))\n",
        "print(\"Percentiles of fare: {}\".format(np.percentile(uber_data.fare_amount, q = [2.5, 25, 50, 75, 97.5])))\n",
        "sns.histplot(uber_data.fare_amount)"
      ]
    },
    {
      "cell_type": "markdown",
      "metadata": {
        "id": "130X2ujKh872"
      },
      "source": [
        "From looking at the min, max, and histogram together, we can see that there are outliers. We should drop all rows that have fare_amount under 0 because this is unrealistic. We should also drop values that are above the 95 percentile."
      ]
    },
    {
      "cell_type": "code",
      "execution_count": 11,
      "metadata": {
        "id": "7A46C3Ygh872",
        "colab": {
          "base_uri": "https://localhost:8080/"
        },
        "outputId": "c5c8a3b6-b0b1-4af3-b8f0-3621cf525e13"
      },
      "outputs": [
        {
          "output_type": "stream",
          "name": "stdout",
          "text": [
            "Min Fare: 0.01 || Max Fare: 30.33\n"
          ]
        }
      ],
      "source": [
        "uber_data = uber_data[uber_data.fare_amount > 0]\n",
        "uber_data = uber_data[uber_data.fare_amount <= np.percentile(uber_data.fare_amount, q = 95)]\n",
        "\n",
        "# check percentiles to make sure correct drops were performed\n",
        "print(\"Min Fare: {} || Max Fare: {}\".format(min(uber_data.fare_amount), max(uber_data.fare_amount)))"
      ]
    },
    {
      "cell_type": "markdown",
      "metadata": {
        "id": "49waQKFCh873"
      },
      "source": [
        "Now let's take another look at the histogram of fare_amount to get an idea of the distribution"
      ]
    },
    {
      "cell_type": "code",
      "execution_count": 12,
      "metadata": {
        "id": "Nmm1kdhUh873",
        "colab": {
          "base_uri": "https://localhost:8080/",
          "height": 298
        },
        "outputId": "503b9e3d-d59a-4fd9-bbec-abaf5877c57c"
      },
      "outputs": [
        {
          "output_type": "execute_result",
          "data": {
            "text/plain": [
              "<matplotlib.axes._subplots.AxesSubplot at 0x7fb6a0735490>"
            ]
          },
          "metadata": {},
          "execution_count": 12
        },
        {
          "output_type": "display_data",
          "data": {
            "text/plain": [
              "<Figure size 432x288 with 1 Axes>"
            ],
            "image/png": "[encoded data removed]"
          },
          "metadata": {
            "needs_background": "light"
          }
        }
      ],
      "source": [
        "sns.histplot(uber_data.fare_amount)"
      ]
    },
    {
      "cell_type": "markdown",
      "metadata": {
        "id": "clrEE5j6h873"
      },
      "source": [
        "Let's make sure latitude and longitude are all NYC based (Remove typos)"
      ]
    },
    {
      "cell_type": "code",
      "execution_count": 13,
      "metadata": {
        "id": "h6SEr2RPh874",
        "colab": {
          "base_uri": "https://localhost:8080/"
        },
        "outputId": "df2e64e5-82c0-473e-b4c9-8fb58325887d"
      },
      "outputs": [
        {
          "output_type": "execute_result",
          "data": {
            "text/plain": [
              "<bound method IndexOpsMixin.value_counts of 0         40.723217\n",
              "1         40.750325\n",
              "2         40.772647\n",
              "3         40.803349\n",
              "4         40.761247\n",
              "            ...    \n",
              "199994    40.754177\n",
              "199995    40.740297\n",
              "199996    40.739620\n",
              "199998    40.695415\n",
              "199999    40.768793\n",
              "Name: dropoff_latitude, Length: 185990, dtype: float64>"
            ]
          },
          "metadata": {},
          "execution_count": 13
        }
      ],
      "source": [
        "uber_data = uber_data[uber_data.pickup_latitude <= 41]\n",
        "uber_data = uber_data[uber_data.pickup_latitude >= 40]\n",
        "uber_data = uber_data[uber_data.pickup_longitude <= -73]\n",
        "uber_data = uber_data[uber_data.pickup_longitude >= -75]\n",
        "uber_data = uber_data[uber_data.dropoff_latitude <= 41]\n",
        "uber_data = uber_data[uber_data.dropoff_latitude >= 40]\n",
        "uber_data = uber_data[uber_data.dropoff_longitude <= -73]\n",
        "uber_data = uber_data[uber_data.dropoff_longitude >= -75]\n",
        "uber_data['dropoff_latitude'].value_counts\n"
      ]
    },
    {
      "cell_type": "markdown",
      "metadata": {
        "id": "jYAObm9uh874"
      },
      "source": [
        "### Create X (all features) and Y (fare_amount)"
      ]
    },
    {
      "cell_type": "code",
      "execution_count": 14,
      "metadata": {
        "id": "txtpelGGh874",
        "colab": {
          "base_uri": "https://localhost:8080/"
        },
        "outputId": "5f37b3e5-5bd4-4159-fe35-7a53d346daa9"
      },
      "outputs": [
        {
          "output_type": "stream",
          "name": "stdout",
          "text": [
            "X shape: (185990, 11) \n",
            "Y shape: (185990,)\n"
          ]
        }
      ],
      "source": [
        "Y = uber_data.fare_amount\n",
        "X = uber_data.drop(columns='fare_amount')\n",
        "print(\"X shape: {} \\nY shape: {}\".format(X.shape, Y.shape))"
      ]
    },
    {
      "cell_type": "markdown",
      "metadata": {
        "id": "NdgG1z2_h875"
      },
      "source": [
        "### Split Data into Training sets and Testing sets"
      ]
    },
    {
      "cell_type": "code",
      "execution_count": 15,
      "metadata": {
        "id": "IjCWuppSh875",
        "colab": {
          "base_uri": "https://localhost:8080/"
        },
        "outputId": "dda99fce-2ac8-471a-883a-e4bc8a96c912"
      },
      "outputs": [
        {
          "output_type": "stream",
          "name": "stdout",
          "text": [
            "Xtr shape: (139492, 11) \n",
            "Xte shape: (46498, 11) \n",
            "Ytr shape: (139492,)\n",
            "Yte shape: (46498,)\n"
          ]
        }
      ],
      "source": [
        "Xtr, Xte, Ytr, Yte = ms.train_test_split(X, Y) # shuffle is true by default & test_size is .25 by default\n",
        "print(\"Xtr shape: {} \\nXte shape: {} \\nYtr shape: {}\\nYte shape: {}\".format(Xtr.shape, Xte.shape, Ytr.shape, Yte.shape))"
      ]
    },
    {
      "cell_type": "markdown",
      "metadata": {
        "id": "WEwndg4Wh875"
      },
      "source": [
        "## Search for the best preprocessing techniques"
      ]
    },
    {
      "cell_type": "markdown",
      "metadata": {
        "id": "tfs30SxEh875"
      },
      "source": [
        "### Here we implement our own grid search that is quite computationally expensive but allows us to try more complex combinations than sklearn's implementation"
      ]
    },
    {
      "cell_type": "code",
      "execution_count": 16,
      "metadata": {
        "id": "PxK9dQRyh876"
      },
      "outputs": [],
      "source": [
        "model_grid = {\n",
        "    \"Ridge Alpha = .1 \": lm.Ridge(alpha = .1), \n",
        "    \"Ridge Alpha = .01 \": lm.Ridge(alpha = .01),\n",
        "    \"Ridge Alpha = .001 \": lm.Ridge(alpha = .001),\n",
        "    # \"Ridge Alpha = .0001: \": lm.Ridge(alpha = .0001) Was never chosen as best parameter so it will be omitted\n",
        "    }\n",
        "scaler_grid = {\n",
        "    'MinMax': pp.MinMaxScaler(), \n",
        "    'Robust': pp.RobustScaler(), \n",
        "    'Standard': pp.StandardScaler()\n",
        "    }\n",
        "transformer_grid = {\n",
        "    'Quantile': pp.QuantileTransformer(),\n",
        "    # 'Power': pp.PowerTransformer() // We dont apply this anymore since all tests before gave negative results and it slows runtime down drastically\n",
        "    }\n",
        "poly_feats_grid = {\n",
        "    \"pf = 1\": pp.PolynomialFeatures(degree = 1),\n",
        "    \"pf = 2\": pp.PolynomialFeatures(degree = 2),\n",
        "    \"pf = 3\": pp.PolynomialFeatures(degree = 3),\n",
        "    \"pf = 4\": pp.PolynomialFeatures(degree = 4)\n",
        "    }"
      ]
    },
    {
      "cell_type": "code",
      "execution_count": 17,
      "metadata": {
        "id": "Y7QUnMFmh876",
        "colab": {
          "base_uri": "https://localhost:8080/"
        },
        "outputId": "bd582c4c-347a-4e96-d0df-2ff76384813c"
      },
      "outputs": [
        {
          "output_type": "stream",
          "name": "stdout",
          "text": [
            "No Transformations: 5.0031382624246055\n",
            "\n",
            "New Best: Ridge Alpha = .1 , MinMax, Quantile, pf = 2\n",
            "Score: 3.6200998874359653\n",
            "\n",
            "New Best: Ridge Alpha = .1 , MinMax, Quantile, pf = 3\n",
            "Score: 3.5088146131831897\n",
            "\n",
            "New Best: Ridge Alpha = .1 , MinMax, Quantile, pf = 4\n",
            "Score: 3.0752194223225335\n",
            "\n",
            "New Best: Ridge Alpha = .1 , Robust, Quantile, pf = 4\n",
            "Score: 3.0751259046033725\n",
            "\n",
            "New Best: Ridge Alpha = .1 , Standard, Quantile, pf = 4\n",
            "Score: 3.0748896885946913\n",
            "\n",
            "New Best: Ridge Alpha = .01 , MinMax, Quantile, pf = 4\n",
            "Score: 3.0399700559011835\n",
            "\n",
            "New Best: Ridge Alpha = .01 , Robust, Quantile, pf = 4\n",
            "Score: 3.039840653508814\n",
            "\n",
            "Best Combination:\n",
            "Best Alpha: Ridge Alpha = .01 \n",
            "Best Scaler: Robust\n",
            "Best Transformer: Quantile\n",
            "Best PolyFeat Degree: pf = 4\n",
            "Best Score: 3.039840653508814\n"
          ]
        }
      ],
      "source": [
        "# Create Dictionary to track scores\n",
        "scores = {}\n",
        "\n",
        "# Compute base model (Normal Linear Regression since alpha = 0)\n",
        "base_model = lm.Ridge()\n",
        "base_model.fit(Xtr, Ytr)\n",
        "base_y_preds = base_model.predict(Xte)\n",
        "error = mean_squared_error(base_y_preds, Yte, squared = False)\n",
        "print(\"No Transformations: {}\".format(error))\n",
        "scores[\"No Transformations\"] = error\n",
        "best_score = error\n",
        "best_model_name = \"base_model\"\n",
        "best_model = None\n",
        "best_scaler_name = \"None\"\n",
        "best_scaler = None\n",
        "best_transformer_name = \"None\"\n",
        "best_transformer = None\n",
        "\n",
        "\n",
        "# Set up nested for loops (This is what makes it so computationally expensive)\n",
        "for h, (model_name, model) in enumerate(model_grid.items()):\n",
        "    for i, (scaler_name, scaler) in enumerate(scaler_grid.items()):\n",
        "        for j, (transformer_name, transformer) in enumerate(transformer_grid.items()):\n",
        "            for k, (pf_degree, poly_feats) in enumerate(poly_feats_grid.items()):\n",
        "\n",
        "                # Create the pipeline with all the different possible preprocessing combinations\n",
        "                pipe = pipeline.make_pipeline(scaler, transformer, poly_feats, model)\n",
        "                \n",
        "                # Cross validate the combination (Also what makes it compuationally expensive)\n",
        "                cv_scores = ms.cross_validate(pipe.fit(Xtr, Ytr), Xtr, Ytr, scoring='neg_root_mean_squared_error')\n",
        "\n",
        "                # Create combination string to be used as a key in dictionary storing scores\n",
        "                combination = model_name + \", \" + scaler_name + \", \" + transformer_name + \", \" + pf_degree\n",
        "\n",
        "                # Calcuate average score of folds\n",
        "                score = -1 * (sum(cv_scores['test_score']) / len(cv_scores['test_score']))\n",
        "\n",
        "                # Store score in dictionary\n",
        "                scores[combination] = score\n",
        "\n",
        "                # If the score is lower than the previous best: Keep track of parameters\n",
        "                if score < best_score: \n",
        "                    best_score = score\n",
        "                    best_model_name = model_name\n",
        "                    best_model = model\n",
        "                    best_scaler_name = scaler_name\n",
        "                    best_scaler = scaler\n",
        "                    best_transformer_name = transformer_name\n",
        "                    best_transformer = transformer\n",
        "                    best_pf_degree = pf_degree\n",
        "                    best_pf = poly_feats\n",
        "                    best_pipe = pipe\n",
        "                    best_cv_stats = cv_scores\n",
        "                    print(\"\\nNew Best: {}, {}, {}, {}\\nScore: {}\".format(model_name, scaler_name, transformer_name, pf_degree, score))\n",
        "\n",
        "print(\"\\nBest Combination:\\nBest Alpha: {}\\nBest Scaler: {}\\nBest Transformer: {}\\nBest PolyFeat Degree: {}\\nBest Score: {}\".format(best_model_name, best_scaler_name, best_transformer_name, best_pf_degree, best_score))\n"
      ]
    },
    {
      "cell_type": "markdown",
      "metadata": {
        "id": "GqtXuuLzh876"
      },
      "source": [
        "## Here is the Best Combination of preprocessing techniques"
      ]
    },
    {
      "cell_type": "code",
      "execution_count": 18,
      "metadata": {
        "id": "ItIlNm5Xh876",
        "colab": {
          "base_uri": "https://localhost:8080/"
        },
        "outputId": "3e500043-94bc-483c-d2f9-e922727001b8"
      },
      "outputs": [
        {
          "output_type": "execute_result",
          "data": {
            "text/plain": [
              "{'robustscaler': RobustScaler(),\n",
              " 'quantiletransformer': QuantileTransformer(),\n",
              " 'polynomialfeatures': PolynomialFeatures(degree=4),\n",
              " 'ridge': Ridge(alpha=0.01)}"
            ]
          },
          "metadata": {},
          "execution_count": 18
        }
      ],
      "source": [
        "best_pipe.named_steps"
      ]
    },
    {
      "cell_type": "markdown",
      "metadata": {
        "id": "umE_6EuBh876"
      },
      "source": [
        "## Time to put the best model up against the Test Set"
      ]
    },
    {
      "cell_type": "code",
      "execution_count": 19,
      "metadata": {
        "id": "OOUtCn-Jh877",
        "colab": {
          "base_uri": "https://localhost:8080/"
        },
        "outputId": "b186c1a1-7b84-471d-b4c2-b5b8245b3314"
      },
      "outputs": [
        {
          "output_type": "stream",
          "name": "stdout",
          "text": [
            "Test Error: 3.0286230569262815\n"
          ]
        }
      ],
      "source": [
        "best_pipe.fit(Xtr, Ytr)\n",
        "y_preds = best_pipe.predict(Xte)\n",
        "rmse = mean_squared_error(Yte, y_preds, squared = False)\n",
        "print(\"Test Error: {}\".format(rmse))"
      ]
    },
    {
      "cell_type": "markdown",
      "metadata": {
        "id": "zABBeTZFh877"
      },
      "source": [
        "## Plot 50 Predictions against Actual Values"
      ]
    },
    {
      "cell_type": "code",
      "execution_count": 20,
      "metadata": {
        "id": "THvl_uN6h877",
        "colab": {
          "base_uri": "https://localhost:8080/",
          "height": 313
        },
        "outputId": "0c1b4308-9be8-4203-9f8e-181ba929b183"
      },
      "outputs": [
        {
          "output_type": "execute_result",
          "data": {
            "text/plain": [
              "<matplotlib.legend.Legend at 0x7fb69fd3e1c0>"
            ]
          },
          "metadata": {},
          "execution_count": 20
        },
        {
          "output_type": "display_data",
          "data": {
            "text/plain": [
              "<Figure size 432x288 with 1 Axes>"
            ],
            "image/png": "[encoded data removed]"
          },
          "metadata": {
            "needs_background": "light"
          }
        }
      ],
      "source": [
        "plt.title(\"First 50 Actual vs Pred in Training\")\n",
        "plt.ylabel(\"Fare\")\n",
        "plt.xlabel(\"Data Pont\")\n",
        "plt.scatter(np.arange(0, 50), Yte[:50], color='r', label = \"Actual\", marker = '*')\n",
        "plt.scatter(np.arange(0, 50), y_preds[:50], color = 'g', label = \"Prediction\", marker = 'v')\n",
        "plt.legend()"
      ]
    },
    {
      "cell_type": "markdown",
      "source": [
        "# Deploy Model"
      ],
      "metadata": {
        "collapsed": false,
        "pycharm": {
          "name": "#%% md\n"
        },
        "id": "_K0ugJCXh877"
      }
    },
    {
      "cell_type": "code",
      "execution_count": 21,
      "outputs": [
        {
          "output_type": "execute_result",
          "data": {
            "text/plain": [
              "(46498, 11)"
            ]
          },
          "metadata": {},
          "execution_count": 21
        }
      ],
      "source": [
        "Xte.shape"
      ],
      "metadata": {
        "pycharm": {
          "name": "#%%\n"
        },
        "id": "EyO-nsYxh877",
        "colab": {
          "base_uri": "https://localhost:8080/"
        },
        "outputId": "62969e74-f0c2-4e2d-ba2d-15b95ca1e215"
      }
    },
    {
      "cell_type": "markdown",
      "source": [
        "Train has 11 features, so our requests has needs to be a 1,11"
      ],
      "metadata": {
        "collapsed": false,
        "pycharm": {
          "name": "#%% md\n"
        },
        "id": "SkuU5ka2h877"
      }
    },
    {
      "cell_type": "markdown",
      "source": [
        "Get min and max long and lat so user can not enter out of bounds data (NYC)"
      ],
      "metadata": {
        "collapsed": false,
        "pycharm": {
          "name": "#%% md\n"
        },
        "id": "BVxThwpth878"
      }
    },
    {
      "cell_type": "code",
      "execution_count": 22,
      "outputs": [],
      "source": [
        "max_pickup_lat = max(uber_data.pickup_latitude)\n",
        "max_dropoff_lat = max(uber_data.dropoff_latitude)\n",
        "\n",
        "max_lat = max(max_pickup_lat,max_dropoff_lat)"
      ],
      "metadata": {
        "pycharm": {
          "name": "#%%\n"
        },
        "id": "1QmAXphPh878"
      }
    },
    {
      "cell_type": "code",
      "execution_count": 23,
      "outputs": [],
      "source": [
        "max_pickup_lon = max(uber_data.pickup_longitude)\n",
        "max_dropoff_lon = max(uber_data.dropoff_longitude)\n",
        "\n",
        "max_lon = max(max_pickup_lon,max_dropoff_lon)"
      ],
      "metadata": {
        "pycharm": {
          "name": "#%%\n"
        },
        "id": "O5K4SvkZh878"
      }
    },
    {
      "cell_type": "code",
      "execution_count": 24,
      "outputs": [],
      "source": [
        "min_pickup_lat = min(uber_data.pickup_latitude)\n",
        "min_dropoff_lat = min(uber_data.dropoff_latitude)\n",
        "\n",
        "min_lat = min(min_pickup_lat,min_dropoff_lat)"
      ],
      "metadata": {
        "pycharm": {
          "name": "#%%\n"
        },
        "id": "5_ZC7Y6Dh878"
      }
    },
    {
      "cell_type": "code",
      "execution_count": 25,
      "outputs": [],
      "source": [
        "min_pickup_lon = min(uber_data.pickup_longitude)\n",
        "min_dropoff_lon= min(uber_data.dropoff_longitude)\n",
        "\n",
        "min_lon = min(min_pickup_lon,min_dropoff_lon)"
      ],
      "metadata": {
        "pycharm": {
          "name": "#%%\n"
        },
        "id": "EycjXZw0h878"
      }
    },
    {
      "cell_type": "code",
      "execution_count": 26,
      "outputs": [
        {
          "output_type": "stream",
          "name": "stdout",
          "text": [
            "Max Lon: -73.379738 \n",
            " Max Lat: 40.996788 \n",
            " Min Lon: -74.728123 \n",
            " Min Lat: 40.002405\n"
          ]
        }
      ],
      "source": [
        "print(\"Max Lon: {} \\n Max Lat: {} \\n Min Lon: {} \\n Min Lat: {}\".format(max_lon,max_lat,min_lon,min_lat))"
      ],
      "metadata": {
        "pycharm": {
          "name": "#%%\n"
        },
        "id": "NWk90XMmh878",
        "colab": {
          "base_uri": "https://localhost:8080/"
        },
        "outputId": "bc01c04c-806a-4ad1-b379-8cdbcf2402e8"
      }
    },
    {
      "cell_type": "markdown",
      "source": [
        "install deps"
      ],
      "metadata": {
        "collapsed": false,
        "pycharm": {
          "name": "#%% md\n"
        },
        "id": "Uc13JyRih879"
      }
    },
    {
      "cell_type": "code",
      "execution_count": 27,
      "outputs": [
        {
          "output_type": "stream",
          "name": "stdout",
          "text": [
            "Looking in indexes: https://pypi.org/simple, https://us-python.pkg.dev/colab-wheels/public/simple/\n",
            "Collecting gradio\n",
            "  Downloading gradio-3.14.0-py3-none-any.whl (13.8 MB)\n",
            "\u001b[K     |████████████████████████████████| 13.8 MB 6.9 MB/s \n",
            "\u001b[?25hCollecting fastapi\n",
            "  Downloading fastapi-0.88.0-py3-none-any.whl (55 kB)\n",
            "\u001b[K     |████████████████████████████████| 55 kB 3.4 MB/s \n",
            "\u001b[?25hRequirement already satisfied: aiohttp in /usr/local/lib/python3.8/dist-packages (from gradio) (3.8.3)\n",
            "Requirement already satisfied: pandas in /usr/local/lib/python3.8/dist-packages (from gradio) (1.3.5)\n",
            "Requirement already satisfied: pillow in /usr/local/lib/python3.8/dist-packages (from gradio) (7.1.2)\n",
            "Requirement already satisfied: pydantic in /usr/local/lib/python3.8/dist-packages (from gradio) (1.10.2)\n",
            "Collecting websockets>=10.0\n",
            "  Downloading websockets-10.4-cp38-cp38-manylinux_2_5_x86_64.manylinux1_x86_64.manylinux_2_17_x86_64.manylinux2014_x86_64.whl (106 kB)\n",
            "\u001b[K     |████████████████████████████████| 106 kB 76.2 MB/s \n",
            "\u001b[?25hCollecting pydub\n",
            "  Downloading pydub-0.25.1-py2.py3-none-any.whl (32 kB)\n",
            "Requirement already satisfied: altair in /usr/local/lib/python3.8/dist-packages (from gradio) (4.2.0)\n",
            "Requirement already satisfied: matplotlib in /usr/local/lib/python3.8/dist-packages (from gradio) (3.2.2)\n",
            "Collecting orjson\n",
            "  Downloading orjson-3.8.3-cp38-cp38-manylinux_2_17_x86_64.manylinux2014_x86_64.whl (278 kB)\n",
            "\u001b[K     |████████████████████████████████| 278 kB 50.1 MB/s \n",
            "\u001b[?25hCollecting python-multipart\n",
            "  Downloading python-multipart-0.0.5.tar.gz (32 kB)\n",
            "Collecting httpx\n",
            "  Downloading httpx-0.23.1-py3-none-any.whl (84 kB)\n",
            "\u001b[K     |████████████████████████████████| 84 kB 3.3 MB/s \n",
            "\u001b[?25hRequirement already satisfied: pyyaml in /usr/local/lib/python3.8/dist-packages (from gradio) (6.0)\n",
            "Collecting pycryptodome\n",
            "  Downloading pycryptodome-3.16.0-cp35-abi3-manylinux_2_5_x86_64.manylinux1_x86_64.manylinux_2_12_x86_64.manylinux2010_x86_64.whl (2.3 MB)\n",
            "\u001b[K     |████████████████████████████████| 2.3 MB 75.6 MB/s \n",
            "\u001b[?25hCollecting uvicorn\n",
            "  Downloading uvicorn-0.20.0-py3-none-any.whl (56 kB)\n",
            "\u001b[K     |████████████████████████████████| 56 kB 4.2 MB/s \n",
            "\u001b[?25hRequirement already satisfied: jinja2 in /usr/local/lib/python3.8/dist-packages (from gradio) (2.11.3)\n",
            "Requirement already satisfied: numpy in /usr/local/lib/python3.8/dist-packages (from gradio) (1.21.6)\n",
            "Requirement already satisfied: requests in /usr/local/lib/python3.8/dist-packages (from gradio) (2.23.0)\n",
            "Requirement already satisfied: fsspec in /usr/local/lib/python3.8/dist-packages (from gradio) (2022.11.0)\n",
            "Collecting markdown-it-py[linkify,plugins]\n",
            "  Downloading markdown_it_py-2.1.0-py3-none-any.whl (84 kB)\n",
            "\u001b[K     |████████████████████████████████| 84 kB 2.8 MB/s \n",
            "\u001b[?25hCollecting ffmpy\n",
            "  Downloading ffmpy-0.3.0.tar.gz (4.8 kB)\n",
            "Requirement already satisfied: markupsafe in /usr/local/lib/python3.8/dist-packages (from gradio) (2.0.1)\n",
            "Requirement already satisfied: multidict<7.0,>=4.5 in /usr/local/lib/python3.8/dist-packages (from aiohttp->gradio) (6.0.3)\n",
            "Requirement already satisfied: async-timeout<5.0,>=4.0.0a3 in /usr/local/lib/python3.8/dist-packages (from aiohttp->gradio) (4.0.2)\n",
            "Requirement already satisfied: attrs>=17.3.0 in /usr/local/lib/python3.8/dist-packages (from aiohttp->gradio) (22.1.0)\n",
            "Requirement already satisfied: yarl<2.0,>=1.0 in /usr/local/lib/python3.8/dist-packages (from aiohttp->gradio) (1.8.2)\n",
            "Requirement already satisfied: aiosignal>=1.1.2 in /usr/local/lib/python3.8/dist-packages (from aiohttp->gradio) (1.3.1)\n",
            "Requirement already satisfied: charset-normalizer<3.0,>=2.0 in /usr/local/lib/python3.8/dist-packages (from aiohttp->gradio) (2.1.1)\n",
            "Requirement already satisfied: frozenlist>=1.1.1 in /usr/local/lib/python3.8/dist-packages (from aiohttp->gradio) (1.3.3)\n",
            "Requirement already satisfied: idna>=2.0 in /usr/local/lib/python3.8/dist-packages (from yarl<2.0,>=1.0->aiohttp->gradio) (2.10)\n",
            "Requirement already satisfied: toolz in /usr/local/lib/python3.8/dist-packages (from altair->gradio) (0.12.0)\n",
            "Requirement already satisfied: jsonschema>=3.0 in /usr/local/lib/python3.8/dist-packages (from altair->gradio) (4.3.3)\n",
            "Requirement already satisfied: entrypoints in /usr/local/lib/python3.8/dist-packages (from altair->gradio) (0.4)\n",
            "Requirement already satisfied: importlib-resources>=1.4.0 in /usr/local/lib/python3.8/dist-packages (from jsonschema>=3.0->altair->gradio) (5.10.1)\n",
            "Requirement already satisfied: pyrsistent!=0.17.0,!=0.17.1,!=0.17.2,>=0.14.0 in /usr/local/lib/python3.8/dist-packages (from jsonschema>=3.0->altair->gradio) (0.19.2)\n",
            "Requirement already satisfied: zipp>=3.1.0 in /usr/local/lib/python3.8/dist-packages (from importlib-resources>=1.4.0->jsonschema>=3.0->altair->gradio) (3.11.0)\n",
            "Requirement already satisfied: python-dateutil>=2.7.3 in /usr/local/lib/python3.8/dist-packages (from pandas->gradio) (2.8.2)\n",
            "Requirement already satisfied: pytz>=2017.3 in /usr/local/lib/python3.8/dist-packages (from pandas->gradio) (2022.6)\n",
            "Requirement already satisfied: six>=1.5 in /usr/local/lib/python3.8/dist-packages (from python-dateutil>=2.7.3->pandas->gradio) (1.15.0)\n",
            "Collecting starlette==0.22.0\n",
            "  Downloading starlette-0.22.0-py3-none-any.whl (64 kB)\n",
            "\u001b[K     |████████████████████████████████| 64 kB 2.8 MB/s \n",
            "\u001b[?25hCollecting anyio<5,>=3.4.0\n",
            "  Downloading anyio-3.6.2-py3-none-any.whl (80 kB)\n",
            "\u001b[K     |████████████████████████████████| 80 kB 8.1 MB/s \n",
            "\u001b[?25hRequirement already satisfied: typing-extensions>=3.10.0 in /usr/local/lib/python3.8/dist-packages (from starlette==0.22.0->fastapi->gradio) (4.4.0)\n",
            "Collecting sniffio>=1.1\n",
            "  Downloading sniffio-1.3.0-py3-none-any.whl (10 kB)\n",
            "Requirement already satisfied: certifi in /usr/local/lib/python3.8/dist-packages (from httpx->gradio) (2022.12.7)\n",
            "Collecting rfc3986[idna2008]<2,>=1.3\n",
            "  Downloading rfc3986-1.5.0-py2.py3-none-any.whl (31 kB)\n",
            "Collecting httpcore<0.17.0,>=0.15.0\n",
            "  Downloading httpcore-0.16.2-py3-none-any.whl (68 kB)\n",
            "\u001b[K     |████████████████████████████████| 68 kB 6.4 MB/s \n",
            "\u001b[?25hCollecting h11<0.15,>=0.13\n",
            "  Downloading h11-0.14.0-py3-none-any.whl (58 kB)\n",
            "\u001b[K     |████████████████████████████████| 58 kB 5.6 MB/s \n",
            "\u001b[?25hCollecting mdurl~=0.1\n",
            "  Downloading mdurl-0.1.2-py3-none-any.whl (10.0 kB)\n",
            "Collecting mdit-py-plugins\n",
            "  Downloading mdit_py_plugins-0.3.3-py3-none-any.whl (50 kB)\n",
            "\u001b[K     |████████████████████████████████| 50 kB 6.7 MB/s \n",
            "\u001b[?25hCollecting linkify-it-py~=1.0\n",
            "  Downloading linkify_it_py-1.0.3-py3-none-any.whl (19 kB)\n",
            "Collecting uc-micro-py\n",
            "  Downloading uc_micro_py-1.0.1-py3-none-any.whl (6.2 kB)\n",
            "Requirement already satisfied: pyparsing!=2.0.4,!=2.1.2,!=2.1.6,>=2.0.1 in /usr/local/lib/python3.8/dist-packages (from matplotlib->gradio) (3.0.9)\n",
            "Requirement already satisfied: cycler>=0.10 in /usr/local/lib/python3.8/dist-packages (from matplotlib->gradio) (0.11.0)\n",
            "Requirement already satisfied: kiwisolver>=1.0.1 in /usr/local/lib/python3.8/dist-packages (from matplotlib->gradio) (1.4.4)\n",
            "Requirement already satisfied: chardet<4,>=3.0.2 in /usr/local/lib/python3.8/dist-packages (from requests->gradio) (3.0.4)\n",
            "Requirement already satisfied: urllib3!=1.25.0,!=1.25.1,<1.26,>=1.21.1 in /usr/local/lib/python3.8/dist-packages (from requests->gradio) (1.24.3)\n",
            "Requirement already satisfied: click>=7.0 in /usr/local/lib/python3.8/dist-packages (from uvicorn->gradio) (7.1.2)\n",
            "Building wheels for collected packages: ffmpy, python-multipart\n",
            "  Building wheel for ffmpy (setup.py) ... \u001b[?25l\u001b[?25hdone\n",
            "  Created wheel for ffmpy: filename=ffmpy-0.3.0-py3-none-any.whl size=4711 sha256=0f69c6635b914e4436dff106af94de54a631ab6865d73d6ecbd338113bad4bee\n",
            "  Stored in directory: /root/.cache/pip/wheels/ff/5b/59/913b443e7369dc04b61f607a746b6f7d83fb65e2e19fcc958d\n",
            "  Building wheel for python-multipart (setup.py) ... \u001b[?25l\u001b[?25hdone\n",
            "  Created wheel for python-multipart: filename=python_multipart-0.0.5-py3-none-any.whl size=31678 sha256=6373acf963efd594b53241186738ca905791db28ad39c7e4bba0bd4d12e1f0f0\n",
            "  Stored in directory: /root/.cache/pip/wheels/9e/fc/1c/cf980e6413d3ee8e70cd8f39e2366b0f487e3e221aeb452eb0\n",
            "Successfully built ffmpy python-multipart\n",
            "Installing collected packages: sniffio, mdurl, uc-micro-py, rfc3986, markdown-it-py, h11, anyio, starlette, mdit-py-plugins, linkify-it-py, httpcore, websockets, uvicorn, python-multipart, pydub, pycryptodome, orjson, httpx, ffmpy, fastapi, gradio\n",
            "Successfully installed anyio-3.6.2 fastapi-0.88.0 ffmpy-0.3.0 gradio-3.14.0 h11-0.14.0 httpcore-0.16.2 httpx-0.23.1 linkify-it-py-1.0.3 markdown-it-py-2.1.0 mdit-py-plugins-0.3.3 mdurl-0.1.2 orjson-3.8.3 pycryptodome-3.16.0 pydub-0.25.1 python-multipart-0.0.5 rfc3986-1.5.0 sniffio-1.3.0 starlette-0.22.0 uc-micro-py-1.0.1 uvicorn-0.20.0 websockets-10.4\n"
          ]
        }
      ],
      "source": [
        "!pip install gradio"
      ],
      "metadata": {
        "pycharm": {
          "name": "#%%\n"
        },
        "id": "QxkLs5zvh879",
        "colab": {
          "base_uri": "https://localhost:8080/"
        },
        "outputId": "6ea2878d-070a-4693-ce82-ff47ef2cd1e2"
      }
    },
    {
      "cell_type": "markdown",
      "source": [
        "define month mapping"
      ],
      "metadata": {
        "id": "f_VSCp4dXmmO"
      }
    },
    {
      "cell_type": "code",
      "source": [
        "month_dictionary = { \n",
        "    \"January\": 1,\n",
        "    \"February\": 2,\n",
        "    \"March\": 3,\n",
        "    \"April\": 4,\n",
        "    \"May\": 5,\n",
        "    \"June\": 6,\n",
        "    \"July\": 7,\n",
        "    \"August\": 8,\n",
        "    \"September\": 9,\n",
        "    \"October\": 10,\n",
        "    \"November\": 11,\n",
        "    \"December\": 12\n",
        "}"
      ],
      "metadata": {
        "id": "LPd31D8yXk79"
      },
      "execution_count": 28,
      "outputs": []
    },
    {
      "cell_type": "markdown",
      "source": [
        "## Define prediction model "
      ],
      "metadata": {
        "id": "m-I3jShNWx4R"
      }
    },
    {
      "cell_type": "code",
      "source": [
        "def change_month_to_int(month):\n",
        "  return month_dictionary[month]"
      ],
      "metadata": {
        "id": "h3We7YC4W2cs"
      },
      "execution_count": 29,
      "outputs": []
    },
    {
      "cell_type": "code",
      "execution_count": 30,
      "outputs": [],
      "source": [
        "import datetime\n",
        "import gradio as gr\n",
        "\n",
        "def predict_uber_price(plon,plat,dlon,dlat,passengers,month,day,hour,minute):\n",
        "\n",
        "  # Turn string month into int for data\n",
        "  month = change_month_to_int(month)\n",
        "\n",
        "  # Get which day of the week the user requested\n",
        "  requested_date = datetime.date(2022,month,day)\n",
        "  day_of_week = datetime.datetime.weekday(requested_date) \n",
        "\n",
        "  # Get what week of the year this date is\n",
        "  week_of_year = datetime.date(2022, month, day).isocalendar()[1]\n",
        "\n",
        "  user_input = np.array([plon,plat,dlon,dlat,passengers,month,week_of_year,day,hour,minute,day_of_week])\n",
        "  user_input = user_input.reshape(1,-1)\n",
        "\n",
        "  pred = best_pipe.predict(user_input)\n",
        "\n",
        "  return '${0:.2f}'.format(pred[0])\n"
      ],
      "metadata": {
        "pycharm": {
          "name": "#%%\n"
        },
        "id": "NrJfT9IXh879"
      }
    },
    {
      "cell_type": "markdown",
      "source": [
        "## Define inputs"
      ],
      "metadata": {
        "id": "PmAkEIL7Wgme"
      }
    },
    {
      "cell_type": "code",
      "source": [
        "# Coords\n",
        "plon = gr.inputs.Slider(minimum=min_lon,maximum=max_lon, label= \"Pickup Longitude\")\n",
        "plat = gr.inputs.Slider(minimum=min_lat,maximum=max_lat, label= \"Pickup Latitude\")\n",
        "dlon = gr.inputs.Slider(minimum=min_lon,maximum=max_lon, label= \"Dropoff Longitude\")\n",
        "dlat = gr.inputs.Slider(minimum=min_lat,maximum=max_lat, label= \"Dropoff Latitude\")\n",
        "\n",
        "# Date\n",
        "month= gr.inputs.Dropdown(choices=[\"January\", \"February\", \"March\", \"April\",\n",
        "                                   \"May\", \"June\", \"July\", \"August\", \"September\",\n",
        "                                   \"October\", \"November\", \"December\"], label= \"Month\")\n",
        "day= gr.inputs.Slider(minimum=1,maximum=31, label= \"Day\", step=1)\n",
        "\n",
        "\n",
        "# Time\n",
        "hour = gr.inputs.Slider(minimum=1, maximum=24, label=\"Pickup Hour\", step=1)\n",
        "minute = gr.inputs.Slider(minimum=0, maximum=60, label=\"Pickup Minute\", step=1)\n",
        "\n",
        "# Passengers\n",
        "passengers = gr.inputs.Slider(minimum=1,maximum=10, label= \"Number of Passengers\", step=1)"
      ],
      "metadata": {
        "id": "uhU45dRaWWqj",
        "colab": {
          "base_uri": "https://localhost:8080/"
        },
        "outputId": "3a93eacb-1964-4de0-bf86-d78ade9fc6ea"
      },
      "execution_count": 31,
      "outputs": [
        {
          "output_type": "stream",
          "name": "stderr",
          "text": [
            "/usr/local/lib/python3.8/dist-packages/gradio/inputs.py:88: UserWarning: Usage of gradio.inputs is deprecated, and will not be supported in the future, please import your component from gradio.components\n",
            "  warnings.warn(\n",
            "/usr/local/lib/python3.8/dist-packages/gradio/deprecation.py:40: UserWarning: `optional` parameter is deprecated, and it has no effect\n",
            "  warnings.warn(value)\n",
            "/usr/local/lib/python3.8/dist-packages/gradio/inputs.py:216: UserWarning: Usage of gradio.inputs is deprecated, and will not be supported in the future, please import your component from gradio.components\n",
            "  warnings.warn(\n"
          ]
        }
      ]
    },
    {
      "cell_type": "markdown",
      "source": [
        "## Launch app"
      ],
      "metadata": {
        "id": "exMlasaiWblq"
      }
    },
    {
      "cell_type": "code",
      "source": [
        "output = gr.outputs.Textbox(label = \"Predicted Uber Price\")\n",
        "\n",
        "demo = gr.Interface(fn=predict_uber_price,\n",
        "                    inputs=[plon, plat, dlon, dlat, passengers,month,day,hour,minute], \n",
        "                    outputs=[output]\n",
        ")\n",
        "\n",
        "demo.launch()"
      ],
      "metadata": {
        "id": "DJ7lnTccWaVu",
        "colab": {
          "base_uri": "https://localhost:8080/",
          "height": 673
        },
        "outputId": "0598b246-d654-4db7-d413-bc5849813519"
      },
      "execution_count": 32,
      "outputs": [
        {
          "output_type": "stream",
          "name": "stderr",
          "text": [
            "/usr/local/lib/python3.8/dist-packages/gradio/outputs.py:21: UserWarning: Usage of gradio.outputs is deprecated, and will not be supported in the future, please import your components from gradio.components\n",
            "  warnings.warn(\n"
          ]
        },
        {
          "output_type": "stream",
          "name": "stdout",
          "text": [
            "Colab notebook detected. To show errors in colab notebook, set `debug=True` in `launch()`\n",
            "Note: opening Chrome Inspector may crash demo inside Colab notebooks.\n",
            "\n",
            "To create a public link, set `share=True` in `launch()`.\n"
          ]
        },
        {
          "output_type": "display_data",
          "data": {
            "text/plain": [
              "<IPython.core.display.Javascript object>"
            ],
            "application/javascript": [
              "(async (port, path, width, height, cache, element) => {\n",
              "                        if (!google.colab.kernel.accessAllowed && !cache) {\n",
              "                            return;\n",
              "                        }\n",
              "                        element.appendChild(document.createTextNode(''));\n",
              "                        const url = await google.colab.kernel.proxyPort(port, {cache});\n",
              "\n",
              "                        const external_link = document.createElement('div');\n",
              "                        external_link.innerHTML = `\n",
              "                            <div style=\"font-family: monospace; margin-bottom: 0.5rem\">\n",
              "                                Running on <a href=${new URL(path, url).toString()} target=\"_blank\">\n",
              "                                    https://localhost:${port}${path}\n",
              "                                </a>\n",
              "                            </div>\n",
              "                        `;\n",
              "                        element.appendChild(external_link);\n",
              "\n",
              "                        const iframe = document.createElement('iframe');\n",
              "                        iframe.src = new URL(path, url).toString();\n",
              "                        iframe.height = height;\n",
              "                        iframe.allow = \"autoplay; camera; microphone; clipboard-read; clipboard-write;\"\n",
              "                        iframe.width = width;\n",
              "                        iframe.style.border = 0;\n",
              "                        element.appendChild(iframe);\n",
              "                    })(7860, \"/\", \"100%\", 500, false, window.element)"
            ]
          },
          "metadata": {}
        },
        {
          "output_type": "execute_result",
          "data": {
            "text/plain": []
          },
          "metadata": {},
          "execution_count": 32
        }
      ]
    }
  ],
  "metadata": {
    "kernelspec": {
      "display_name": "Python 3",
      "language": "python",
      "name": "python3"
    },
    "language_info": {
      "codemirror_mode": {
        "name": "ipython",
        "version": 3
      },
      "file_extension": ".py",
      "mimetype": "text/x-python",
      "name": "python",
      "nbconvert_exporter": "python",
      "pygments_lexer": "ipython3",
      "version": "3.8.8"
    },
    "orig_nbformat": 4,
    "vscode": {
      "interpreter": {
        "hash": "da2656c9e6c6bdafe71e1d77f094e6d700f8e721ce962638229309038a08fa06"
      }
    },
    "colab": {
      "provenance": []
    }
  },
  "nbformat": 4,
  "nbformat_minor": 0
}