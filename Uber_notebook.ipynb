{
 "cells": [
  {
   "cell_type": "markdown",
   "metadata": {},
   "source": [
    "# Predicting Uber Fare Prices\n",
    "## Mark Bowen & John Ruscito & Peyton Theil"
   ]
  },
  {
   "cell_type": "code",
   "execution_count": 1,
   "metadata": {},
   "outputs": [],
   "source": [
    "import pandas as pd\n",
    "import numpy as np\n",
    "import matplotlib.pyplot as plt\n",
    "from sklearn import linear_model as lm\n",
    "from sklearn import model_selection as ms\n",
    "from sklearn import preprocessing as pp\n",
    "from sklearn import pipeline\n",
    "from sklearn.metrics import mean_squared_error\n",
    "import seaborn as sns"
   ]
  },
  {
   "cell_type": "markdown",
   "metadata": {},
   "source": [
    "### Import data and Inspect the Data"
   ]
  },
  {
   "cell_type": "code",
   "execution_count": 2,
   "metadata": {},
   "outputs": [
    {
     "name": "stdout",
     "output_type": "stream",
     "text": [
      "Shape of the Data:  (200000, 9)\n"
     ]
    },
    {
     "data": {
      "text/html": [
       "<div>\n",
       "<style scoped>\n",
       "    .dataframe tbody tr th:only-of-type {\n",
       "        vertical-align: middle;\n",
       "    }\n",
       "\n",
       "    .dataframe tbody tr th {\n",
       "        vertical-align: top;\n",
       "    }\n",
       "\n",
       "    .dataframe thead th {\n",
       "        text-align: right;\n",
       "    }\n",
       "</style>\n",
       "<table border=\"1\" class=\"dataframe\">\n",
       "  <thead>\n",
       "    <tr style=\"text-align: right;\">\n",
       "      <th></th>\n",
       "      <th>Unnamed: 0</th>\n",
       "      <th>key</th>\n",
       "      <th>fare_amount</th>\n",
       "      <th>pickup_datetime</th>\n",
       "      <th>pickup_longitude</th>\n",
       "      <th>pickup_latitude</th>\n",
       "      <th>dropoff_longitude</th>\n",
       "      <th>dropoff_latitude</th>\n",
       "      <th>passenger_count</th>\n",
       "    </tr>\n",
       "  </thead>\n",
       "  <tbody>\n",
       "    <tr>\n",
       "      <th>0</th>\n",
       "      <td>24238194</td>\n",
       "      <td>2015-05-07 19:52:06.0000003</td>\n",
       "      <td>7.5</td>\n",
       "      <td>2015-05-07 19:52:06 UTC</td>\n",
       "      <td>-73.999817</td>\n",
       "      <td>40.738354</td>\n",
       "      <td>-73.999512</td>\n",
       "      <td>40.723217</td>\n",
       "      <td>1</td>\n",
       "    </tr>\n",
       "    <tr>\n",
       "      <th>1</th>\n",
       "      <td>27835199</td>\n",
       "      <td>2009-07-17 20:04:56.0000002</td>\n",
       "      <td>7.7</td>\n",
       "      <td>2009-07-17 20:04:56 UTC</td>\n",
       "      <td>-73.994355</td>\n",
       "      <td>40.728225</td>\n",
       "      <td>-73.994710</td>\n",
       "      <td>40.750325</td>\n",
       "      <td>1</td>\n",
       "    </tr>\n",
       "    <tr>\n",
       "      <th>2</th>\n",
       "      <td>44984355</td>\n",
       "      <td>2009-08-24 21:45:00.00000061</td>\n",
       "      <td>12.9</td>\n",
       "      <td>2009-08-24 21:45:00 UTC</td>\n",
       "      <td>-74.005043</td>\n",
       "      <td>40.740770</td>\n",
       "      <td>-73.962565</td>\n",
       "      <td>40.772647</td>\n",
       "      <td>1</td>\n",
       "    </tr>\n",
       "    <tr>\n",
       "      <th>3</th>\n",
       "      <td>25894730</td>\n",
       "      <td>2009-06-26 08:22:21.0000001</td>\n",
       "      <td>5.3</td>\n",
       "      <td>2009-06-26 08:22:21 UTC</td>\n",
       "      <td>-73.976124</td>\n",
       "      <td>40.790844</td>\n",
       "      <td>-73.965316</td>\n",
       "      <td>40.803349</td>\n",
       "      <td>3</td>\n",
       "    </tr>\n",
       "    <tr>\n",
       "      <th>4</th>\n",
       "      <td>17610152</td>\n",
       "      <td>2014-08-28 17:47:00.000000188</td>\n",
       "      <td>16.0</td>\n",
       "      <td>2014-08-28 17:47:00 UTC</td>\n",
       "      <td>-73.925023</td>\n",
       "      <td>40.744085</td>\n",
       "      <td>-73.973082</td>\n",
       "      <td>40.761247</td>\n",
       "      <td>5</td>\n",
       "    </tr>\n",
       "  </tbody>\n",
       "</table>\n",
       "</div>"
      ],
      "text/plain": [
       "   Unnamed: 0                            key  fare_amount  \\\n",
       "0    24238194    2015-05-07 19:52:06.0000003          7.5   \n",
       "1    27835199    2009-07-17 20:04:56.0000002          7.7   \n",
       "2    44984355   2009-08-24 21:45:00.00000061         12.9   \n",
       "3    25894730    2009-06-26 08:22:21.0000001          5.3   \n",
       "4    17610152  2014-08-28 17:47:00.000000188         16.0   \n",
       "\n",
       "           pickup_datetime  pickup_longitude  pickup_latitude  \\\n",
       "0  2015-05-07 19:52:06 UTC        -73.999817        40.738354   \n",
       "1  2009-07-17 20:04:56 UTC        -73.994355        40.728225   \n",
       "2  2009-08-24 21:45:00 UTC        -74.005043        40.740770   \n",
       "3  2009-06-26 08:22:21 UTC        -73.976124        40.790844   \n",
       "4  2014-08-28 17:47:00 UTC        -73.925023        40.744085   \n",
       "\n",
       "   dropoff_longitude  dropoff_latitude  passenger_count  \n",
       "0         -73.999512         40.723217                1  \n",
       "1         -73.994710         40.750325                1  \n",
       "2         -73.962565         40.772647                1  \n",
       "3         -73.965316         40.803349                3  \n",
       "4         -73.973082         40.761247                5  "
      ]
     },
     "execution_count": 2,
     "metadata": {},
     "output_type": "execute_result"
    }
   ],
   "source": [
    "uber_data = pd.read_csv(\"uber.csv\")\n",
    "print(\"Shape of the Data: \", uber_data.shape)\n",
    "uber_data.head()"
   ]
  },
  {
   "cell_type": "code",
   "execution_count": 3,
   "metadata": {},
   "outputs": [
    {
     "name": "stdout",
     "output_type": "stream",
     "text": [
      "Check for null values:\n",
      " Unnamed: 0           0\n",
      "key                  0\n",
      "fare_amount          0\n",
      "pickup_datetime      0\n",
      "pickup_longitude     0\n",
      "pickup_latitude      0\n",
      "dropoff_longitude    1\n",
      "dropoff_latitude     1\n",
      "passenger_count      0\n",
      "dtype: int64\n",
      "Null values after dropping:\n",
      " Unnamed: 0           0\n",
      "key                  0\n",
      "fare_amount          0\n",
      "pickup_datetime      0\n",
      "pickup_longitude     0\n",
      "pickup_latitude      0\n",
      "dropoff_longitude    0\n",
      "dropoff_latitude     0\n",
      "passenger_count      0\n",
      "dtype: int64\n"
     ]
    }
   ],
   "source": [
    "print(\"Check for null values:\\n\", uber_data.isnull().sum())\n",
    "uber_data = uber_data.dropna()\n",
    "print(\"Null values after dropping:\\n\", uber_data.isnull().sum())\n"
   ]
  },
  {
   "cell_type": "markdown",
   "metadata": {},
   "source": [
    "## Data"
   ]
  },
  {
   "cell_type": "markdown",
   "metadata": {},
   "source": [
    "### Feature Engineer pickup_datetime"
   ]
  },
  {
   "cell_type": "code",
   "execution_count": 4,
   "metadata": {},
   "outputs": [],
   "source": [
    "uber_data.pickup_datetime = pd.to_datetime(uber_data.pickup_datetime, format = '%Y-%m-%d %H:%M:%S UTC', errors='coerce')"
   ]
  },
  {
   "cell_type": "code",
   "execution_count": 5,
   "metadata": {},
   "outputs": [
    {
     "data": {
      "text/html": [
       "<div>\n",
       "<style scoped>\n",
       "    .dataframe tbody tr th:only-of-type {\n",
       "        vertical-align: middle;\n",
       "    }\n",
       "\n",
       "    .dataframe tbody tr th {\n",
       "        vertical-align: top;\n",
       "    }\n",
       "\n",
       "    .dataframe thead th {\n",
       "        text-align: right;\n",
       "    }\n",
       "</style>\n",
       "<table border=\"1\" class=\"dataframe\">\n",
       "  <thead>\n",
       "    <tr style=\"text-align: right;\">\n",
       "      <th></th>\n",
       "      <th>Unnamed: 0</th>\n",
       "      <th>key</th>\n",
       "      <th>fare_amount</th>\n",
       "      <th>pickup_datetime</th>\n",
       "      <th>pickup_longitude</th>\n",
       "      <th>pickup_latitude</th>\n",
       "      <th>dropoff_longitude</th>\n",
       "      <th>dropoff_latitude</th>\n",
       "      <th>passenger_count</th>\n",
       "    </tr>\n",
       "  </thead>\n",
       "  <tbody>\n",
       "    <tr>\n",
       "      <th>0</th>\n",
       "      <td>24238194</td>\n",
       "      <td>2015-05-07 19:52:06.0000003</td>\n",
       "      <td>7.5</td>\n",
       "      <td>2015-05-07 19:52:06</td>\n",
       "      <td>-73.999817</td>\n",
       "      <td>40.738354</td>\n",
       "      <td>-73.999512</td>\n",
       "      <td>40.723217</td>\n",
       "      <td>1</td>\n",
       "    </tr>\n",
       "    <tr>\n",
       "      <th>1</th>\n",
       "      <td>27835199</td>\n",
       "      <td>2009-07-17 20:04:56.0000002</td>\n",
       "      <td>7.7</td>\n",
       "      <td>2009-07-17 20:04:56</td>\n",
       "      <td>-73.994355</td>\n",
       "      <td>40.728225</td>\n",
       "      <td>-73.994710</td>\n",
       "      <td>40.750325</td>\n",
       "      <td>1</td>\n",
       "    </tr>\n",
       "    <tr>\n",
       "      <th>2</th>\n",
       "      <td>44984355</td>\n",
       "      <td>2009-08-24 21:45:00.00000061</td>\n",
       "      <td>12.9</td>\n",
       "      <td>2009-08-24 21:45:00</td>\n",
       "      <td>-74.005043</td>\n",
       "      <td>40.740770</td>\n",
       "      <td>-73.962565</td>\n",
       "      <td>40.772647</td>\n",
       "      <td>1</td>\n",
       "    </tr>\n",
       "    <tr>\n",
       "      <th>3</th>\n",
       "      <td>25894730</td>\n",
       "      <td>2009-06-26 08:22:21.0000001</td>\n",
       "      <td>5.3</td>\n",
       "      <td>2009-06-26 08:22:21</td>\n",
       "      <td>-73.976124</td>\n",
       "      <td>40.790844</td>\n",
       "      <td>-73.965316</td>\n",
       "      <td>40.803349</td>\n",
       "      <td>3</td>\n",
       "    </tr>\n",
       "    <tr>\n",
       "      <th>4</th>\n",
       "      <td>17610152</td>\n",
       "      <td>2014-08-28 17:47:00.000000188</td>\n",
       "      <td>16.0</td>\n",
       "      <td>2014-08-28 17:47:00</td>\n",
       "      <td>-73.925023</td>\n",
       "      <td>40.744085</td>\n",
       "      <td>-73.973082</td>\n",
       "      <td>40.761247</td>\n",
       "      <td>5</td>\n",
       "    </tr>\n",
       "  </tbody>\n",
       "</table>\n",
       "</div>"
      ],
      "text/plain": [
       "   Unnamed: 0                            key  fare_amount     pickup_datetime  \\\n",
       "0    24238194    2015-05-07 19:52:06.0000003          7.5 2015-05-07 19:52:06   \n",
       "1    27835199    2009-07-17 20:04:56.0000002          7.7 2009-07-17 20:04:56   \n",
       "2    44984355   2009-08-24 21:45:00.00000061         12.9 2009-08-24 21:45:00   \n",
       "3    25894730    2009-06-26 08:22:21.0000001          5.3 2009-06-26 08:22:21   \n",
       "4    17610152  2014-08-28 17:47:00.000000188         16.0 2014-08-28 17:47:00   \n",
       "\n",
       "   pickup_longitude  pickup_latitude  dropoff_longitude  dropoff_latitude  \\\n",
       "0        -73.999817        40.738354         -73.999512         40.723217   \n",
       "1        -73.994355        40.728225         -73.994710         40.750325   \n",
       "2        -74.005043        40.740770         -73.962565         40.772647   \n",
       "3        -73.976124        40.790844         -73.965316         40.803349   \n",
       "4        -73.925023        40.744085         -73.973082         40.761247   \n",
       "\n",
       "   passenger_count  \n",
       "0                1  \n",
       "1                1  \n",
       "2                1  \n",
       "3                3  \n",
       "4                5  "
      ]
     },
     "execution_count": 5,
     "metadata": {},
     "output_type": "execute_result"
    }
   ],
   "source": [
    "uber_data.head()"
   ]
  },
  {
   "cell_type": "code",
   "execution_count": 6,
   "metadata": {},
   "outputs": [
    {
     "data": {
      "text/plain": [
       "0"
      ]
     },
     "execution_count": 6,
     "metadata": {},
     "output_type": "execute_result"
    }
   ],
   "source": [
    "(uber_data.pickup_datetime == \"NaT\").sum()"
   ]
  },
  {
   "cell_type": "markdown",
   "metadata": {},
   "source": [
    "Extract extra information from pickup_datetime. <br>\n",
    "Year is not important since it will never repeat (i.e. it will never be 2019 again)"
   ]
  },
  {
   "cell_type": "code",
   "execution_count": 7,
   "metadata": {},
   "outputs": [
    {
     "data": {
      "text/html": [
       "<div>\n",
       "<style scoped>\n",
       "    .dataframe tbody tr th:only-of-type {\n",
       "        vertical-align: middle;\n",
       "    }\n",
       "\n",
       "    .dataframe tbody tr th {\n",
       "        vertical-align: top;\n",
       "    }\n",
       "\n",
       "    .dataframe thead th {\n",
       "        text-align: right;\n",
       "    }\n",
       "</style>\n",
       "<table border=\"1\" class=\"dataframe\">\n",
       "  <thead>\n",
       "    <tr style=\"text-align: right;\">\n",
       "      <th></th>\n",
       "      <th>pickup_month</th>\n",
       "      <th>pickup_week</th>\n",
       "      <th>pickup_day</th>\n",
       "      <th>pickup_hour</th>\n",
       "      <th>pickup_minute</th>\n",
       "      <th>pickup_dayofweek</th>\n",
       "    </tr>\n",
       "  </thead>\n",
       "  <tbody>\n",
       "    <tr>\n",
       "      <th>0</th>\n",
       "      <td>5</td>\n",
       "      <td>19</td>\n",
       "      <td>7</td>\n",
       "      <td>19</td>\n",
       "      <td>52</td>\n",
       "      <td>3</td>\n",
       "    </tr>\n",
       "    <tr>\n",
       "      <th>1</th>\n",
       "      <td>7</td>\n",
       "      <td>29</td>\n",
       "      <td>17</td>\n",
       "      <td>20</td>\n",
       "      <td>4</td>\n",
       "      <td>4</td>\n",
       "    </tr>\n",
       "    <tr>\n",
       "      <th>2</th>\n",
       "      <td>8</td>\n",
       "      <td>35</td>\n",
       "      <td>24</td>\n",
       "      <td>21</td>\n",
       "      <td>45</td>\n",
       "      <td>0</td>\n",
       "    </tr>\n",
       "    <tr>\n",
       "      <th>3</th>\n",
       "      <td>6</td>\n",
       "      <td>26</td>\n",
       "      <td>26</td>\n",
       "      <td>8</td>\n",
       "      <td>22</td>\n",
       "      <td>4</td>\n",
       "    </tr>\n",
       "    <tr>\n",
       "      <th>4</th>\n",
       "      <td>8</td>\n",
       "      <td>35</td>\n",
       "      <td>28</td>\n",
       "      <td>17</td>\n",
       "      <td>47</td>\n",
       "      <td>3</td>\n",
       "    </tr>\n",
       "  </tbody>\n",
       "</table>\n",
       "</div>"
      ],
      "text/plain": [
       "   pickup_month  pickup_week  pickup_day  pickup_hour  pickup_minute  \\\n",
       "0             5           19           7           19             52   \n",
       "1             7           29          17           20              4   \n",
       "2             8           35          24           21             45   \n",
       "3             6           26          26            8             22   \n",
       "4             8           35          28           17             47   \n",
       "\n",
       "   pickup_dayofweek  \n",
       "0                 3  \n",
       "1                 4  \n",
       "2                 0  \n",
       "3                 4  \n",
       "4                 3  "
      ]
     },
     "execution_count": 7,
     "metadata": {},
     "output_type": "execute_result"
    }
   ],
   "source": [
    "uber_data['pickup_month'] = uber_data.pickup_datetime.dt.month\n",
    "uber_data['pickup_week'] = uber_data.pickup_datetime.dt.isocalendar().week\n",
    "uber_data['pickup_day'] = uber_data.pickup_datetime.dt.day\n",
    "uber_data['pickup_hour'] = uber_data.pickup_datetime.dt.hour\n",
    "uber_data['pickup_minute'] = uber_data.pickup_datetime.dt.minute\n",
    "uber_data['pickup_dayofweek'] = uber_data.pickup_datetime.dt.dayofweek\n",
    "uber_data[['pickup_month', 'pickup_week', 'pickup_day', 'pickup_hour', 'pickup_minute', 'pickup_dayofweek']].head()"
   ]
  },
  {
   "cell_type": "markdown",
   "metadata": {},
   "source": [
    "Now that we have extracted the useful information out of pickup_datetime, we can remove the column from the data"
   ]
  },
  {
   "cell_type": "markdown",
   "metadata": {},
   "source": [
    "Let's also drop key and id since they are not necessary for learning"
   ]
  },
  {
   "cell_type": "code",
   "execution_count": 8,
   "metadata": {},
   "outputs": [
    {
     "data": {
      "text/html": [
       "<div>\n",
       "<style scoped>\n",
       "    .dataframe tbody tr th:only-of-type {\n",
       "        vertical-align: middle;\n",
       "    }\n",
       "\n",
       "    .dataframe tbody tr th {\n",
       "        vertical-align: top;\n",
       "    }\n",
       "\n",
       "    .dataframe thead th {\n",
       "        text-align: right;\n",
       "    }\n",
       "</style>\n",
       "<table border=\"1\" class=\"dataframe\">\n",
       "  <thead>\n",
       "    <tr style=\"text-align: right;\">\n",
       "      <th></th>\n",
       "      <th>fare_amount</th>\n",
       "      <th>pickup_longitude</th>\n",
       "      <th>pickup_latitude</th>\n",
       "      <th>dropoff_longitude</th>\n",
       "      <th>dropoff_latitude</th>\n",
       "      <th>passenger_count</th>\n",
       "      <th>pickup_month</th>\n",
       "      <th>pickup_week</th>\n",
       "      <th>pickup_day</th>\n",
       "      <th>pickup_hour</th>\n",
       "      <th>pickup_minute</th>\n",
       "      <th>pickup_dayofweek</th>\n",
       "    </tr>\n",
       "  </thead>\n",
       "  <tbody>\n",
       "    <tr>\n",
       "      <th>0</th>\n",
       "      <td>7.5</td>\n",
       "      <td>-73.999817</td>\n",
       "      <td>40.738354</td>\n",
       "      <td>-73.999512</td>\n",
       "      <td>40.723217</td>\n",
       "      <td>1</td>\n",
       "      <td>5</td>\n",
       "      <td>19</td>\n",
       "      <td>7</td>\n",
       "      <td>19</td>\n",
       "      <td>52</td>\n",
       "      <td>3</td>\n",
       "    </tr>\n",
       "    <tr>\n",
       "      <th>1</th>\n",
       "      <td>7.7</td>\n",
       "      <td>-73.994355</td>\n",
       "      <td>40.728225</td>\n",
       "      <td>-73.994710</td>\n",
       "      <td>40.750325</td>\n",
       "      <td>1</td>\n",
       "      <td>7</td>\n",
       "      <td>29</td>\n",
       "      <td>17</td>\n",
       "      <td>20</td>\n",
       "      <td>4</td>\n",
       "      <td>4</td>\n",
       "    </tr>\n",
       "    <tr>\n",
       "      <th>2</th>\n",
       "      <td>12.9</td>\n",
       "      <td>-74.005043</td>\n",
       "      <td>40.740770</td>\n",
       "      <td>-73.962565</td>\n",
       "      <td>40.772647</td>\n",
       "      <td>1</td>\n",
       "      <td>8</td>\n",
       "      <td>35</td>\n",
       "      <td>24</td>\n",
       "      <td>21</td>\n",
       "      <td>45</td>\n",
       "      <td>0</td>\n",
       "    </tr>\n",
       "    <tr>\n",
       "      <th>3</th>\n",
       "      <td>5.3</td>\n",
       "      <td>-73.976124</td>\n",
       "      <td>40.790844</td>\n",
       "      <td>-73.965316</td>\n",
       "      <td>40.803349</td>\n",
       "      <td>3</td>\n",
       "      <td>6</td>\n",
       "      <td>26</td>\n",
       "      <td>26</td>\n",
       "      <td>8</td>\n",
       "      <td>22</td>\n",
       "      <td>4</td>\n",
       "    </tr>\n",
       "    <tr>\n",
       "      <th>4</th>\n",
       "      <td>16.0</td>\n",
       "      <td>-73.925023</td>\n",
       "      <td>40.744085</td>\n",
       "      <td>-73.973082</td>\n",
       "      <td>40.761247</td>\n",
       "      <td>5</td>\n",
       "      <td>8</td>\n",
       "      <td>35</td>\n",
       "      <td>28</td>\n",
       "      <td>17</td>\n",
       "      <td>47</td>\n",
       "      <td>3</td>\n",
       "    </tr>\n",
       "  </tbody>\n",
       "</table>\n",
       "</div>"
      ],
      "text/plain": [
       "   fare_amount  pickup_longitude  pickup_latitude  dropoff_longitude  \\\n",
       "0          7.5        -73.999817        40.738354         -73.999512   \n",
       "1          7.7        -73.994355        40.728225         -73.994710   \n",
       "2         12.9        -74.005043        40.740770         -73.962565   \n",
       "3          5.3        -73.976124        40.790844         -73.965316   \n",
       "4         16.0        -73.925023        40.744085         -73.973082   \n",
       "\n",
       "   dropoff_latitude  passenger_count  pickup_month  pickup_week  pickup_day  \\\n",
       "0         40.723217                1             5           19           7   \n",
       "1         40.750325                1             7           29          17   \n",
       "2         40.772647                1             8           35          24   \n",
       "3         40.803349                3             6           26          26   \n",
       "4         40.761247                5             8           35          28   \n",
       "\n",
       "   pickup_hour  pickup_minute  pickup_dayofweek  \n",
       "0           19             52                 3  \n",
       "1           20              4                 4  \n",
       "2           21             45                 0  \n",
       "3            8             22                 4  \n",
       "4           17             47                 3  "
      ]
     },
     "execution_count": 8,
     "metadata": {},
     "output_type": "execute_result"
    }
   ],
   "source": [
    "uber_data = uber_data.drop(columns = ['pickup_datetime', 'key', 'Unnamed: 0'])\n",
    "uber_data.head()"
   ]
  },
  {
   "attachments": {},
   "cell_type": "markdown",
   "metadata": {},
   "source": [
    "Inspect Target Variable"
   ]
  },
  {
   "cell_type": "code",
   "execution_count": 9,
   "metadata": {},
   "outputs": [
    {
     "name": "stdout",
     "output_type": "stream",
     "text": [
      "Max fare: 499.0 || Min Fare: -52.0\n",
      "Percentiles of fare: [ 3.7   6.    8.5  12.5  43.33]\n"
     ]
    },
    {
     "data": {
      "text/plain": [
       "<AxesSubplot:xlabel='fare_amount', ylabel='Count'>"
      ]
     },
     "execution_count": 9,
     "metadata": {},
     "output_type": "execute_result"
    },
    {
     "data": {
      "image/png": "[encoded data removed]",
      "text/plain": [
       "<Figure size 432x288 with 1 Axes>"
      ]
     },
     "metadata": {
      "needs_background": "light"
     },
     "output_type": "display_data"
    }
   ],
   "source": [
    "print(\"Max fare: {} || Min Fare: {}\".format(max(uber_data.fare_amount), min(uber_data.fare_amount)))\n",
    "print(\"Percentiles of fare: {}\".format(np.percentile(uber_data.fare_amount, q = [2.5, 25, 50, 75, 97.5])))\n",
    "sns.histplot(uber_data.fare_amount)"
   ]
  },
  {
   "attachments": {},
   "cell_type": "markdown",
   "metadata": {},
   "source": [
    "From looking at the min, max, and histogram together, we can see that there are outliers. We should drop all rows that have fare_amount under 0 because this is unrealistic. We should also drop values that are above the 95 percentile."
   ]
  },
  {
   "cell_type": "code",
   "execution_count": 10,
   "metadata": {},
   "outputs": [
    {
     "name": "stdout",
     "output_type": "stream",
     "text": [
      "Min Fare: 0.01 || Max Fare: 30.33\n"
     ]
    }
   ],
   "source": [
    "uber_data = uber_data[uber_data.fare_amount > 0]\n",
    "uber_data = uber_data[uber_data.fare_amount <= np.percentile(uber_data.fare_amount, q = 95)]\n",
    "\n",
    "# check percentiles to make sure correct drops were performed\n",
    "print(\"Min Fare: {} || Max Fare: {}\".format(min(uber_data.fare_amount), max(uber_data.fare_amount)))"
   ]
  },
  {
   "attachments": {},
   "cell_type": "markdown",
   "metadata": {},
   "source": [
    "Now let's take another look at the histogram of fare_amount to get an idea of the distribution"
   ]
  },
  {
   "cell_type": "code",
   "execution_count": 11,
   "metadata": {},
   "outputs": [
    {
     "data": {
      "text/plain": [
       "<AxesSubplot:xlabel='fare_amount', ylabel='Count'>"
      ]
     },
     "execution_count": 11,
     "metadata": {},
     "output_type": "execute_result"
    },
    {
     "data": {
      "image/png": "[encoded data removed]",
      "text/plain": [
       "<Figure size 432x288 with 1 Axes>"
      ]
     },
     "metadata": {
      "needs_background": "light"
     },
     "output_type": "display_data"
    }
   ],
   "source": [
    "sns.histplot(uber_data.fare_amount)"
   ]
  },
  {
   "attachments": {},
   "cell_type": "markdown",
   "metadata": {},
   "source": [
    "Let's make sure latitude and longitude are actually possible values (-90 < lat < 90 and -180 < long < 180)"
   ]
  },
  {
   "cell_type": "code",
   "execution_count": 12,
   "metadata": {},
   "outputs": [],
   "source": [
    "uber_data = uber_data[uber_data.pickup_latitude <= 90]\n",
    "uber_data = uber_data[uber_data.pickup_latitude >= -90]\n",
    "uber_data = uber_data[uber_data.pickup_longitude <= 180]\n",
    "uber_data = uber_data[uber_data.pickup_longitude >= -180]\n",
    "uber_data = uber_data[uber_data.dropoff_latitude <= 90]\n",
    "uber_data = uber_data[uber_data.dropoff_latitude >= -90]\n",
    "uber_data = uber_data[uber_data.dropoff_longitude <= 180]\n",
    "uber_data = uber_data[uber_data.pickup_longitude >= -180]"
   ]
  },
  {
   "cell_type": "markdown",
   "metadata": {},
   "source": [
    "### Create X (all features) and Y (fare_amount)"
   ]
  },
  {
   "cell_type": "code",
   "execution_count": 13,
   "metadata": {},
   "outputs": [
    {
     "name": "stdout",
     "output_type": "stream",
     "text": [
      "X shape: (189989, 11) \n",
      "Y shape: (189989,)\n"
     ]
    }
   ],
   "source": [
    "Y = uber_data.fare_amount\n",
    "X = uber_data.drop(columns='fare_amount')\n",
    "print(\"X shape: {} \\nY shape: {}\".format(X.shape, Y.shape))"
   ]
  },
  {
   "cell_type": "markdown",
   "metadata": {},
   "source": [
    "### Split Data into Training sets and Testing sets"
   ]
  },
  {
   "cell_type": "code",
   "execution_count": 14,
   "metadata": {},
   "outputs": [
    {
     "name": "stdout",
     "output_type": "stream",
     "text": [
      "Xtr shape: (142491, 11) \n",
      "Xte shape: (47498, 11) \n",
      "Ytr shape: (142491,)\n",
      "Yte shape: (47498,)\n"
     ]
    }
   ],
   "source": [
    "Xtr, Xte, Ytr, Yte = ms.train_test_split(X, Y) # shuffle is true by default & test_size is .25 by default\n",
    "print(\"Xtr shape: {} \\nXte shape: {} \\nYtr shape: {}\\nYte shape: {}\".format(Xtr.shape, Xte.shape, Ytr.shape, Yte.shape))"
   ]
  },
  {
   "cell_type": "markdown",
   "metadata": {},
   "source": [
    "## Search for the best preprocessing techniques"
   ]
  },
  {
   "attachments": {},
   "cell_type": "markdown",
   "metadata": {},
   "source": [
    "### Here we implement our own grid search that is quite computationally expensive but allows us to try more complex combinations than sklearn's implementation"
   ]
  },
  {
   "cell_type": "code",
   "execution_count": 15,
   "metadata": {},
   "outputs": [],
   "source": [
    "model_grid = {\n",
    "    \"Ridge Alpha = .1 \": lm.Ridge(alpha = .1), \n",
    "    \"Ridge Alpha = .01 \": lm.Ridge(alpha = .01),\n",
    "    \"Ridge Alpha = .001 \": lm.Ridge(alpha = .001),\n",
    "    # \"Ridge Alpha = .0001: \": lm.Ridge(alpha = .0001) Was never chosen as best parameter so it will be omitted\n",
    "    }\n",
    "scaler_grid = {\n",
    "    'MinMax': pp.MinMaxScaler(), \n",
    "    'Robust': pp.RobustScaler(), \n",
    "    'Standard': pp.StandardScaler()\n",
    "    }\n",
    "transformer_grid = {\n",
    "    'Quantile': pp.QuantileTransformer(),\n",
    "    # 'Power': pp.PowerTransformer() // We dont apply this anymore since all tests before gave negative results and it slows runtime down drastically\n",
    "    }\n",
    "poly_feats_grid = {\n",
    "    \"pf = 1\": pp.PolynomialFeatures(degree = 1),\n",
    "    \"pf = 2\": pp.PolynomialFeatures(degree = 2),\n",
    "    \"pf = 3\": pp.PolynomialFeatures(degree = 3),\n",
    "    \"pf = 4\": pp.PolynomialFeatures(degree = 4)\n",
    "    }"
   ]
  },
  {
   "cell_type": "code",
   "execution_count": 16,
   "metadata": {},
   "outputs": [
    {
     "name": "stdout",
     "output_type": "stream",
     "text": [
      "No Transformations: 5.1989130563912305\n",
      "\n",
      "New Best: Ridge Alpha = .1 , MinMax, Quantile, pf = 1\n",
      "Score: 5.126699063781796\n",
      "\n",
      "New Best: Ridge Alpha = .1 , MinMax, Quantile, pf = 2\n",
      "Score: 3.7324924951135734\n",
      "\n",
      "New Best: Ridge Alpha = .1 , MinMax, Quantile, pf = 3\n",
      "Score: 3.6226591179700796\n",
      "\n",
      "New Best: Ridge Alpha = .1 , MinMax, Quantile, pf = 4\n",
      "Score: 3.2105974712027794\n",
      "\n",
      "New Best: Ridge Alpha = .1 , Robust, Quantile, pf = 4\n",
      "Score: 3.2103665831404293\n",
      "\n",
      "New Best: Ridge Alpha = .1 , Standard, Quantile, pf = 4\n",
      "Score: 3.2103312020103183\n",
      "\n",
      "New Best: Ridge Alpha = .01 , MinMax, Quantile, pf = 4\n",
      "Score: 3.1791739627947004\n",
      "\n",
      "New Best: Ridge Alpha = .01 , Standard, Quantile, pf = 4\n",
      "Score: 3.1788830014912106\n",
      "\n",
      "Best Combination:\n",
      "Best Alpha: Ridge Alpha = .01 \n",
      "Best Scaler: Standard\n",
      "Best Transformer: Quantile\n",
      "Best PolyFeat Degree: pf = 4\n",
      "Best Score: 3.1788830014912106\n"
     ]
    }
   ],
   "source": [
    "# Create Dictionary to track scores\n",
    "scores = {}\n",
    "\n",
    "# Compute base model (Normal Linear Regression since alpha = 0)\n",
    "base_model = lm.Ridge()\n",
    "base_model.fit(Xtr, Ytr)\n",
    "base_y_preds = base_model.predict(Xte)\n",
    "error = mean_squared_error(base_y_preds, Yte, squared = False)\n",
    "print(\"No Transformations: {}\".format(error))\n",
    "scores[\"No Transformations\"] = error\n",
    "best_score = error\n",
    "best_model_name = \"base_model\"\n",
    "best_model = None\n",
    "best_scaler_name = \"None\"\n",
    "best_scaler = None\n",
    "best_transformer_name = \"None\"\n",
    "best_transformer = None\n",
    "\n",
    "\n",
    "# Set up nested for loops (This is what makes it so computationally expensive)\n",
    "for h, (model_name, model) in enumerate(model_grid.items()):\n",
    "    for i, (scaler_name, scaler) in enumerate(scaler_grid.items()):\n",
    "        for j, (transformer_name, transformer) in enumerate(transformer_grid.items()):\n",
    "            for k, (pf_degree, poly_feats) in enumerate(poly_feats_grid.items()):\n",
    "\n",
    "                # Create the pipeline with all the different possible preprocessing combinations\n",
    "                pipe = pipeline.make_pipeline(scaler, transformer, poly_feats, model)\n",
    "                \n",
    "                # Cross validate the combination (Also what makes it compuationally expensive)\n",
    "                cv_scores = ms.cross_validate(pipe.fit(Xtr, Ytr), Xtr, Ytr, scoring='neg_root_mean_squared_error')\n",
    "\n",
    "                # Create combination string to be used as a key in dictionary storing scores\n",
    "                combination = model_name + \", \" + scaler_name + \", \" + transformer_name + \", \" + pf_degree\n",
    "\n",
    "                # Calcuate average score of folds\n",
    "                score = -1 * (sum(cv_scores['test_score']) / len(cv_scores['test_score']))\n",
    "\n",
    "                # Store score in dictionary\n",
    "                scores[combination] = score\n",
    "\n",
    "                # If the score is lower than the previous best: Keep track of parameters\n",
    "                if score < best_score: \n",
    "                    best_score = score\n",
    "                    best_model_name = model_name\n",
    "                    best_model = model\n",
    "                    best_scaler_name = scaler_name\n",
    "                    best_scaler = scaler\n",
    "                    best_transformer_name = transformer_name\n",
    "                    best_transformer = transformer\n",
    "                    best_pf_degree = pf_degree\n",
    "                    best_pf = poly_feats\n",
    "                    best_pipe = pipe\n",
    "                    best_cv_stats = cv_scores\n",
    "                    print(\"\\nNew Best: {}, {}, {}, {}\\nScore: {}\".format(model_name, scaler_name, transformer_name, pf_degree, score))\n",
    "\n",
    "print(\"\\nBest Combination:\\nBest Alpha: {}\\nBest Scaler: {}\\nBest Transformer: {}\\nBest PolyFeat Degree: {}\\nBest Score: {}\".format(best_model_name, best_scaler_name, best_transformer_name, best_pf_degree, best_score))\n"
   ]
  },
  {
   "attachments": {},
   "cell_type": "markdown",
   "metadata": {},
   "source": [
    "## Here is the Best Combination of preprocessing techniques"
   ]
  },
  {
   "cell_type": "code",
   "execution_count": 17,
   "metadata": {},
   "outputs": [
    {
     "data": {
      "text/plain": [
       "{'standardscaler': StandardScaler(),\n",
       " 'quantiletransformer': QuantileTransformer(),\n",
       " 'polynomialfeatures': PolynomialFeatures(degree=4),\n",
       " 'ridge': Ridge(alpha=0.01)}"
      ]
     },
     "execution_count": 17,
     "metadata": {},
     "output_type": "execute_result"
    }
   ],
   "source": [
    "best_pipe.named_steps"
   ]
  },
  {
   "attachments": {},
   "cell_type": "markdown",
   "metadata": {},
   "source": [
    "## Time to put the best model up against the Test Set"
   ]
  },
  {
   "cell_type": "code",
   "execution_count": 18,
   "metadata": {},
   "outputs": [
    {
     "name": "stdout",
     "output_type": "stream",
     "text": [
      "Test Error: 3.201246935723408\n"
     ]
    }
   ],
   "source": [
    "best_pipe.fit(Xtr, Ytr)\n",
    "y_preds = best_pipe.predict(Xte)\n",
    "rmse = mean_squared_error(Yte, y_preds, squared = False)\n",
    "print(\"Test Error: {}\".format(rmse))"
   ]
  },
  {
   "attachments": {},
   "cell_type": "markdown",
   "metadata": {},
   "source": [
    "## Plot 50 Predictions against Actual Values"
   ]
  },
  {
   "cell_type": "code",
   "execution_count": 19,
   "metadata": {},
   "outputs": [
    {
     "data": {
      "text/plain": [
       "<matplotlib.legend.Legend at 0x7fc8b8d34910>"
      ]
     },
     "execution_count": 19,
     "metadata": {},
     "output_type": "execute_result"
    },
    {
     "data": {
      "image/png": "[encoded data removed]",
      "text/plain": [
       "<Figure size 432x288 with 1 Axes>"
      ]
     },
     "metadata": {
      "needs_background": "light"
     },
     "output_type": "display_data"
    }
   ],
   "source": [
    "plt.title(\"First 50 Actual vs Pred in Training\")\n",
    "plt.ylabel(\"Fare\")\n",
    "plt.xlabel(\"Data Pont\")\n",
    "plt.scatter(np.arange(0, 50), Yte[:50], color='r', label = \"Actual\", marker = '*')\n",
    "plt.scatter(np.arange(0, 50), y_preds[:50], color = 'g', label = \"Prediction\", marker = 'v')\n",
    "plt.legend()"
   ]
  }
 ],
 "metadata": {
  "kernelspec": {
   "display_name": "Python 3",
   "language": "python",
   "name": "python3"
  },
  "language_info": {
   "codemirror_mode": {
    "name": "ipython",
    "version": 3
   },
   "file_extension": ".py",
   "mimetype": "text/x-python",
   "name": "python",
   "nbconvert_exporter": "python",
   "pygments_lexer": "ipython3",
   "version": "3.8.8"
  },
  "orig_nbformat": 4,
  "vscode": {
   "interpreter": {
    "hash": "da2656c9e6c6bdafe71e1d77f094e6d700f8e721ce962638229309038a08fa06"
   }
  }
 },
 "nbformat": 4,
 "nbformat_minor": 2
}
